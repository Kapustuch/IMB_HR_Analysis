{
 "cells": [
  {
   "cell_type": "markdown",
   "id": "477f2280",
   "metadata": {},
   "source": [
    "# *IBM HR Analytics: Workforce Insights & Attrition Analysis*\n",
    "\n",
    "## **Project Context & Business Goal**\n",
    "\n",
    "### Project Context\n",
    "The dataset comes from the **[IBM HR Analytics Attrition Dataset](https://www.kaggle.com/datasets/pavansubhasht/ibm-hr-analytics-attrition-dataset/data)**, which contains detailed employee-level information from a corporate workforce.  \n",
    "It includes demographic attributes (age, gender, marital status, education), work-related features (department, job role, tenure, overtime, travel frequency), compensation (monthly income, salary hikes), and satisfaction ratings (job satisfaction, work-life balance, environment satisfaction).  \n",
    "The target variable is **Attrition** (Yes/No), indicating whether an employee left the company.  \n",
    "\n",
    "Employee attrition and workforce management are critical challenges for organizations:\n",
    "- **High costs of turnover**: replacing an employee can cost between 50%–200% of their annual salary.  \n",
    "- **Productivity and morale**: departures disrupt teams, knowledge transfer, and client relationships.  \n",
    "- **Retention strategies**: identifying at-risk employees early allows HR to design targeted interventions.  \n",
    "\n",
    "This dataset is widely used for HR analytics research and predictive modeling, making it a strong base for exploring how compensation, workload, satisfaction, and demographics affect attrition.  \n",
    "\n",
    "### **Business Goal**\n",
    "The main business goals of this project are to:\n",
    "1. **Describe** workforce demographics, satisfaction, and attrition patterns.  \n",
    "2. **Diagnose** key drivers of attrition using hypothesis testing and statistical analysis.  \n",
    "3. **Validate** which factors significantly impact attrition (e.g., salary, overtime, tenure, travel).  \n",
    "4. **Provide actionable HR insights** to improve retention and workforce well-being.  \n",
    "\n",
    "Specifically, the analysis seeks to answer:  \n",
    "- Which groups of employees are most at risk of leaving?  \n",
    "- Do compensation, workload, or satisfaction significantly differ between leavers and stayers?  \n",
    "- At what tenure stages are employees most vulnerable to attrition?  \n",
    "- How can HR policies (salary adjustments, onboarding, travel policies) reduce attrition risk?  \n",
    "\n",
    "By addressing these questions, the project provides **data-driven recommendations** to HR managers that can lower attrition, improve employee satisfaction, and reduce organizational costs.\n"
   ]
  },
  {
   "cell_type": "markdown",
   "id": "52652bc0",
   "metadata": {},
   "source": [
    "# Data Import & Overview"
   ]
  },
  {
   "cell_type": "code",
   "execution_count": 2,
   "id": "bf3ea950",
   "metadata": {},
   "outputs": [],
   "source": [
    "import pandas as pd\n",
    "import numpy as np\n",
    "import matplotlib.pyplot as plt\n",
    "import seaborn as sns\n",
    "import scipy.stats as stats"
   ]
  },
  {
   "cell_type": "code",
   "execution_count": 3,
   "id": "d33080be",
   "metadata": {},
   "outputs": [],
   "source": [
    "df = pd.read_csv('Dataset/HR.csv')"
   ]
  },
  {
   "cell_type": "code",
   "execution_count": 4,
   "id": "090b911d",
   "metadata": {},
   "outputs": [
    {
     "data": {
      "text/html": [
       "<div>\n",
       "<style scoped>\n",
       "    .dataframe tbody tr th:only-of-type {\n",
       "        vertical-align: middle;\n",
       "    }\n",
       "\n",
       "    .dataframe tbody tr th {\n",
       "        vertical-align: top;\n",
       "    }\n",
       "\n",
       "    .dataframe thead th {\n",
       "        text-align: right;\n",
       "    }\n",
       "</style>\n",
       "<table border=\"1\" class=\"dataframe\">\n",
       "  <thead>\n",
       "    <tr style=\"text-align: right;\">\n",
       "      <th></th>\n",
       "      <th>Age</th>\n",
       "      <th>Attrition</th>\n",
       "      <th>BusinessTravel</th>\n",
       "      <th>DailyRate</th>\n",
       "      <th>Department</th>\n",
       "      <th>DistanceFromHome</th>\n",
       "      <th>Education</th>\n",
       "      <th>EducationField</th>\n",
       "      <th>EmployeeCount</th>\n",
       "      <th>EmployeeNumber</th>\n",
       "      <th>...</th>\n",
       "      <th>RelationshipSatisfaction</th>\n",
       "      <th>StandardHours</th>\n",
       "      <th>StockOptionLevel</th>\n",
       "      <th>TotalWorkingYears</th>\n",
       "      <th>TrainingTimesLastYear</th>\n",
       "      <th>WorkLifeBalance</th>\n",
       "      <th>YearsAtCompany</th>\n",
       "      <th>YearsInCurrentRole</th>\n",
       "      <th>YearsSinceLastPromotion</th>\n",
       "      <th>YearsWithCurrManager</th>\n",
       "    </tr>\n",
       "  </thead>\n",
       "  <tbody>\n",
       "    <tr>\n",
       "      <th>0</th>\n",
       "      <td>41</td>\n",
       "      <td>Yes</td>\n",
       "      <td>Travel_Rarely</td>\n",
       "      <td>1102</td>\n",
       "      <td>Sales</td>\n",
       "      <td>1</td>\n",
       "      <td>2</td>\n",
       "      <td>Life Sciences</td>\n",
       "      <td>1</td>\n",
       "      <td>1</td>\n",
       "      <td>...</td>\n",
       "      <td>1</td>\n",
       "      <td>80</td>\n",
       "      <td>0</td>\n",
       "      <td>8</td>\n",
       "      <td>0</td>\n",
       "      <td>1</td>\n",
       "      <td>6</td>\n",
       "      <td>4</td>\n",
       "      <td>0</td>\n",
       "      <td>5</td>\n",
       "    </tr>\n",
       "    <tr>\n",
       "      <th>1</th>\n",
       "      <td>49</td>\n",
       "      <td>No</td>\n",
       "      <td>Travel_Frequently</td>\n",
       "      <td>279</td>\n",
       "      <td>Research &amp; Development</td>\n",
       "      <td>8</td>\n",
       "      <td>1</td>\n",
       "      <td>Life Sciences</td>\n",
       "      <td>1</td>\n",
       "      <td>2</td>\n",
       "      <td>...</td>\n",
       "      <td>4</td>\n",
       "      <td>80</td>\n",
       "      <td>1</td>\n",
       "      <td>10</td>\n",
       "      <td>3</td>\n",
       "      <td>3</td>\n",
       "      <td>10</td>\n",
       "      <td>7</td>\n",
       "      <td>1</td>\n",
       "      <td>7</td>\n",
       "    </tr>\n",
       "    <tr>\n",
       "      <th>2</th>\n",
       "      <td>37</td>\n",
       "      <td>Yes</td>\n",
       "      <td>Travel_Rarely</td>\n",
       "      <td>1373</td>\n",
       "      <td>Research &amp; Development</td>\n",
       "      <td>2</td>\n",
       "      <td>2</td>\n",
       "      <td>Other</td>\n",
       "      <td>1</td>\n",
       "      <td>4</td>\n",
       "      <td>...</td>\n",
       "      <td>2</td>\n",
       "      <td>80</td>\n",
       "      <td>0</td>\n",
       "      <td>7</td>\n",
       "      <td>3</td>\n",
       "      <td>3</td>\n",
       "      <td>0</td>\n",
       "      <td>0</td>\n",
       "      <td>0</td>\n",
       "      <td>0</td>\n",
       "    </tr>\n",
       "    <tr>\n",
       "      <th>3</th>\n",
       "      <td>33</td>\n",
       "      <td>No</td>\n",
       "      <td>Travel_Frequently</td>\n",
       "      <td>1392</td>\n",
       "      <td>Research &amp; Development</td>\n",
       "      <td>3</td>\n",
       "      <td>4</td>\n",
       "      <td>Life Sciences</td>\n",
       "      <td>1</td>\n",
       "      <td>5</td>\n",
       "      <td>...</td>\n",
       "      <td>3</td>\n",
       "      <td>80</td>\n",
       "      <td>0</td>\n",
       "      <td>8</td>\n",
       "      <td>3</td>\n",
       "      <td>3</td>\n",
       "      <td>8</td>\n",
       "      <td>7</td>\n",
       "      <td>3</td>\n",
       "      <td>0</td>\n",
       "    </tr>\n",
       "    <tr>\n",
       "      <th>4</th>\n",
       "      <td>27</td>\n",
       "      <td>No</td>\n",
       "      <td>Travel_Rarely</td>\n",
       "      <td>591</td>\n",
       "      <td>Research &amp; Development</td>\n",
       "      <td>2</td>\n",
       "      <td>1</td>\n",
       "      <td>Medical</td>\n",
       "      <td>1</td>\n",
       "      <td>7</td>\n",
       "      <td>...</td>\n",
       "      <td>4</td>\n",
       "      <td>80</td>\n",
       "      <td>1</td>\n",
       "      <td>6</td>\n",
       "      <td>3</td>\n",
       "      <td>3</td>\n",
       "      <td>2</td>\n",
       "      <td>2</td>\n",
       "      <td>2</td>\n",
       "      <td>2</td>\n",
       "    </tr>\n",
       "  </tbody>\n",
       "</table>\n",
       "<p>5 rows × 35 columns</p>\n",
       "</div>"
      ],
      "text/plain": [
       "   Age Attrition     BusinessTravel  DailyRate              Department  \\\n",
       "0   41       Yes      Travel_Rarely       1102                   Sales   \n",
       "1   49        No  Travel_Frequently        279  Research & Development   \n",
       "2   37       Yes      Travel_Rarely       1373  Research & Development   \n",
       "3   33        No  Travel_Frequently       1392  Research & Development   \n",
       "4   27        No      Travel_Rarely        591  Research & Development   \n",
       "\n",
       "   DistanceFromHome  Education EducationField  EmployeeCount  EmployeeNumber  \\\n",
       "0                 1          2  Life Sciences              1               1   \n",
       "1                 8          1  Life Sciences              1               2   \n",
       "2                 2          2          Other              1               4   \n",
       "3                 3          4  Life Sciences              1               5   \n",
       "4                 2          1        Medical              1               7   \n",
       "\n",
       "   ...  RelationshipSatisfaction StandardHours  StockOptionLevel  \\\n",
       "0  ...                         1            80                 0   \n",
       "1  ...                         4            80                 1   \n",
       "2  ...                         2            80                 0   \n",
       "3  ...                         3            80                 0   \n",
       "4  ...                         4            80                 1   \n",
       "\n",
       "   TotalWorkingYears  TrainingTimesLastYear WorkLifeBalance  YearsAtCompany  \\\n",
       "0                  8                      0               1               6   \n",
       "1                 10                      3               3              10   \n",
       "2                  7                      3               3               0   \n",
       "3                  8                      3               3               8   \n",
       "4                  6                      3               3               2   \n",
       "\n",
       "  YearsInCurrentRole  YearsSinceLastPromotion  YearsWithCurrManager  \n",
       "0                  4                        0                     5  \n",
       "1                  7                        1                     7  \n",
       "2                  0                        0                     0  \n",
       "3                  7                        3                     0  \n",
       "4                  2                        2                     2  \n",
       "\n",
       "[5 rows x 35 columns]"
      ]
     },
     "execution_count": 4,
     "metadata": {},
     "output_type": "execute_result"
    }
   ],
   "source": [
    "df.head(5)"
   ]
  },
  {
   "cell_type": "code",
   "execution_count": 5,
   "id": "c1c801fe",
   "metadata": {},
   "outputs": [
    {
     "data": {
      "text/plain": [
       "Index(['Age', 'Attrition', 'BusinessTravel', 'DailyRate', 'Department',\n",
       "       'DistanceFromHome', 'Education', 'EducationField', 'EmployeeCount',\n",
       "       'EmployeeNumber', 'EnvironmentSatisfaction', 'Gender', 'HourlyRate',\n",
       "       'JobInvolvement', 'JobLevel', 'JobRole', 'JobSatisfaction',\n",
       "       'MaritalStatus', 'MonthlyIncome', 'MonthlyRate', 'NumCompaniesWorked',\n",
       "       'Over18', 'OverTime', 'PercentSalaryHike', 'PerformanceRating',\n",
       "       'RelationshipSatisfaction', 'StandardHours', 'StockOptionLevel',\n",
       "       'TotalWorkingYears', 'TrainingTimesLastYear', 'WorkLifeBalance',\n",
       "       'YearsAtCompany', 'YearsInCurrentRole', 'YearsSinceLastPromotion',\n",
       "       'YearsWithCurrManager'],\n",
       "      dtype='object')"
      ]
     },
     "execution_count": 5,
     "metadata": {},
     "output_type": "execute_result"
    }
   ],
   "source": [
    "df.columns"
   ]
  },
  {
   "cell_type": "code",
   "execution_count": 6,
   "id": "abb88df7",
   "metadata": {},
   "outputs": [
    {
     "name": "stdout",
     "output_type": "stream",
     "text": [
      "<class 'pandas.core.frame.DataFrame'>\n",
      "RangeIndex: 1470 entries, 0 to 1469\n",
      "Data columns (total 35 columns):\n",
      " #   Column                    Non-Null Count  Dtype \n",
      "---  ------                    --------------  ----- \n",
      " 0   Age                       1470 non-null   int64 \n",
      " 1   Attrition                 1470 non-null   object\n",
      " 2   BusinessTravel            1470 non-null   object\n",
      " 3   DailyRate                 1470 non-null   int64 \n",
      " 4   Department                1470 non-null   object\n",
      " 5   DistanceFromHome          1470 non-null   int64 \n",
      " 6   Education                 1470 non-null   int64 \n",
      " 7   EducationField            1470 non-null   object\n",
      " 8   EmployeeCount             1470 non-null   int64 \n",
      " 9   EmployeeNumber            1470 non-null   int64 \n",
      " 10  EnvironmentSatisfaction   1470 non-null   int64 \n",
      " 11  Gender                    1470 non-null   object\n",
      " 12  HourlyRate                1470 non-null   int64 \n",
      " 13  JobInvolvement            1470 non-null   int64 \n",
      " 14  JobLevel                  1470 non-null   int64 \n",
      " 15  JobRole                   1470 non-null   object\n",
      " 16  JobSatisfaction           1470 non-null   int64 \n",
      " 17  MaritalStatus             1470 non-null   object\n",
      " 18  MonthlyIncome             1470 non-null   int64 \n",
      " 19  MonthlyRate               1470 non-null   int64 \n",
      " 20  NumCompaniesWorked        1470 non-null   int64 \n",
      " 21  Over18                    1470 non-null   object\n",
      " 22  OverTime                  1470 non-null   object\n",
      " 23  PercentSalaryHike         1470 non-null   int64 \n",
      " 24  PerformanceRating         1470 non-null   int64 \n",
      " 25  RelationshipSatisfaction  1470 non-null   int64 \n",
      " 26  StandardHours             1470 non-null   int64 \n",
      " 27  StockOptionLevel          1470 non-null   int64 \n",
      " 28  TotalWorkingYears         1470 non-null   int64 \n",
      " 29  TrainingTimesLastYear     1470 non-null   int64 \n",
      " 30  WorkLifeBalance           1470 non-null   int64 \n",
      " 31  YearsAtCompany            1470 non-null   int64 \n",
      " 32  YearsInCurrentRole        1470 non-null   int64 \n",
      " 33  YearsSinceLastPromotion   1470 non-null   int64 \n",
      " 34  YearsWithCurrManager      1470 non-null   int64 \n",
      "dtypes: int64(26), object(9)\n",
      "memory usage: 402.1+ KB\n"
     ]
    }
   ],
   "source": [
    "df.info()"
   ]
  },
  {
   "cell_type": "code",
   "execution_count": 7,
   "id": "747c5871",
   "metadata": {},
   "outputs": [
    {
     "data": {
      "text/html": [
       "<div>\n",
       "<style scoped>\n",
       "    .dataframe tbody tr th:only-of-type {\n",
       "        vertical-align: middle;\n",
       "    }\n",
       "\n",
       "    .dataframe tbody tr th {\n",
       "        vertical-align: top;\n",
       "    }\n",
       "\n",
       "    .dataframe thead th {\n",
       "        text-align: right;\n",
       "    }\n",
       "</style>\n",
       "<table border=\"1\" class=\"dataframe\">\n",
       "  <thead>\n",
       "    <tr style=\"text-align: right;\">\n",
       "      <th></th>\n",
       "      <th>Age</th>\n",
       "      <th>DistanceFromHome</th>\n",
       "      <th>MonthlyIncome</th>\n",
       "      <th>PercentSalaryHike</th>\n",
       "      <th>NumCompaniesWorked</th>\n",
       "      <th>TotalWorkingYears</th>\n",
       "      <th>YearsAtCompany</th>\n",
       "      <th>YearsInCurrentRole</th>\n",
       "      <th>YearsSinceLastPromotion</th>\n",
       "      <th>YearsWithCurrManager</th>\n",
       "    </tr>\n",
       "  </thead>\n",
       "  <tbody>\n",
       "    <tr>\n",
       "      <th>count</th>\n",
       "      <td>1470.000000</td>\n",
       "      <td>1470.000000</td>\n",
       "      <td>1470.000000</td>\n",
       "      <td>1470.000000</td>\n",
       "      <td>1470.000000</td>\n",
       "      <td>1470.000000</td>\n",
       "      <td>1470.000000</td>\n",
       "      <td>1470.000000</td>\n",
       "      <td>1470.000000</td>\n",
       "      <td>1470.000000</td>\n",
       "    </tr>\n",
       "    <tr>\n",
       "      <th>mean</th>\n",
       "      <td>36.923810</td>\n",
       "      <td>9.192517</td>\n",
       "      <td>6502.931293</td>\n",
       "      <td>15.209524</td>\n",
       "      <td>2.693197</td>\n",
       "      <td>11.279592</td>\n",
       "      <td>7.008163</td>\n",
       "      <td>4.229252</td>\n",
       "      <td>2.187755</td>\n",
       "      <td>4.123129</td>\n",
       "    </tr>\n",
       "    <tr>\n",
       "      <th>std</th>\n",
       "      <td>9.135373</td>\n",
       "      <td>8.106864</td>\n",
       "      <td>4707.956783</td>\n",
       "      <td>3.659938</td>\n",
       "      <td>2.498009</td>\n",
       "      <td>7.780782</td>\n",
       "      <td>6.126525</td>\n",
       "      <td>3.623137</td>\n",
       "      <td>3.222430</td>\n",
       "      <td>3.568136</td>\n",
       "    </tr>\n",
       "    <tr>\n",
       "      <th>min</th>\n",
       "      <td>18.000000</td>\n",
       "      <td>1.000000</td>\n",
       "      <td>1009.000000</td>\n",
       "      <td>11.000000</td>\n",
       "      <td>0.000000</td>\n",
       "      <td>0.000000</td>\n",
       "      <td>0.000000</td>\n",
       "      <td>0.000000</td>\n",
       "      <td>0.000000</td>\n",
       "      <td>0.000000</td>\n",
       "    </tr>\n",
       "    <tr>\n",
       "      <th>25%</th>\n",
       "      <td>30.000000</td>\n",
       "      <td>2.000000</td>\n",
       "      <td>2911.000000</td>\n",
       "      <td>12.000000</td>\n",
       "      <td>1.000000</td>\n",
       "      <td>6.000000</td>\n",
       "      <td>3.000000</td>\n",
       "      <td>2.000000</td>\n",
       "      <td>0.000000</td>\n",
       "      <td>2.000000</td>\n",
       "    </tr>\n",
       "    <tr>\n",
       "      <th>50%</th>\n",
       "      <td>36.000000</td>\n",
       "      <td>7.000000</td>\n",
       "      <td>4919.000000</td>\n",
       "      <td>14.000000</td>\n",
       "      <td>2.000000</td>\n",
       "      <td>10.000000</td>\n",
       "      <td>5.000000</td>\n",
       "      <td>3.000000</td>\n",
       "      <td>1.000000</td>\n",
       "      <td>3.000000</td>\n",
       "    </tr>\n",
       "    <tr>\n",
       "      <th>75%</th>\n",
       "      <td>43.000000</td>\n",
       "      <td>14.000000</td>\n",
       "      <td>8379.000000</td>\n",
       "      <td>18.000000</td>\n",
       "      <td>4.000000</td>\n",
       "      <td>15.000000</td>\n",
       "      <td>9.000000</td>\n",
       "      <td>7.000000</td>\n",
       "      <td>3.000000</td>\n",
       "      <td>7.000000</td>\n",
       "    </tr>\n",
       "    <tr>\n",
       "      <th>max</th>\n",
       "      <td>60.000000</td>\n",
       "      <td>29.000000</td>\n",
       "      <td>19999.000000</td>\n",
       "      <td>25.000000</td>\n",
       "      <td>9.000000</td>\n",
       "      <td>40.000000</td>\n",
       "      <td>40.000000</td>\n",
       "      <td>18.000000</td>\n",
       "      <td>15.000000</td>\n",
       "      <td>17.000000</td>\n",
       "    </tr>\n",
       "  </tbody>\n",
       "</table>\n",
       "</div>"
      ],
      "text/plain": [
       "               Age  DistanceFromHome  MonthlyIncome  PercentSalaryHike  \\\n",
       "count  1470.000000       1470.000000    1470.000000        1470.000000   \n",
       "mean     36.923810          9.192517    6502.931293          15.209524   \n",
       "std       9.135373          8.106864    4707.956783           3.659938   \n",
       "min      18.000000          1.000000    1009.000000          11.000000   \n",
       "25%      30.000000          2.000000    2911.000000          12.000000   \n",
       "50%      36.000000          7.000000    4919.000000          14.000000   \n",
       "75%      43.000000         14.000000    8379.000000          18.000000   \n",
       "max      60.000000         29.000000   19999.000000          25.000000   \n",
       "\n",
       "       NumCompaniesWorked  TotalWorkingYears  YearsAtCompany  \\\n",
       "count         1470.000000        1470.000000     1470.000000   \n",
       "mean             2.693197          11.279592        7.008163   \n",
       "std              2.498009           7.780782        6.126525   \n",
       "min              0.000000           0.000000        0.000000   \n",
       "25%              1.000000           6.000000        3.000000   \n",
       "50%              2.000000          10.000000        5.000000   \n",
       "75%              4.000000          15.000000        9.000000   \n",
       "max              9.000000          40.000000       40.000000   \n",
       "\n",
       "       YearsInCurrentRole  YearsSinceLastPromotion  YearsWithCurrManager  \n",
       "count         1470.000000              1470.000000           1470.000000  \n",
       "mean             4.229252                 2.187755              4.123129  \n",
       "std              3.623137                 3.222430              3.568136  \n",
       "min              0.000000                 0.000000              0.000000  \n",
       "25%              2.000000                 0.000000              2.000000  \n",
       "50%              3.000000                 1.000000              3.000000  \n",
       "75%              7.000000                 3.000000              7.000000  \n",
       "max             18.000000                15.000000             17.000000  "
      ]
     },
     "execution_count": 7,
     "metadata": {},
     "output_type": "execute_result"
    }
   ],
   "source": [
    "df.describe()[['Age', 'DistanceFromHome', 'MonthlyIncome', 'PercentSalaryHike', 'NumCompaniesWorked', 'TotalWorkingYears', 'YearsAtCompany', 'YearsInCurrentRole', 'YearsSinceLastPromotion', 'YearsWithCurrManager']]"
   ]
  },
  {
   "cell_type": "markdown",
   "id": "9eec17a2",
   "metadata": {},
   "source": [
    "# EDA"
   ]
  },
  {
   "cell_type": "markdown",
   "id": "2d4e2f3f",
   "metadata": {},
   "source": [
    "## Attrition Rate Overview"
   ]
  },
  {
   "cell_type": "markdown",
   "id": "7d4cc617",
   "metadata": {},
   "source": [
    "### What is the overall attrition rate?"
   ]
  },
  {
   "cell_type": "code",
   "execution_count": 8,
   "id": "f179c8e2",
   "metadata": {},
   "outputs": [
    {
     "data": {
      "text/html": [
       "<div>\n",
       "<style scoped>\n",
       "    .dataframe tbody tr th:only-of-type {\n",
       "        vertical-align: middle;\n",
       "    }\n",
       "\n",
       "    .dataframe tbody tr th {\n",
       "        vertical-align: top;\n",
       "    }\n",
       "\n",
       "    .dataframe thead th {\n",
       "        text-align: right;\n",
       "    }\n",
       "</style>\n",
       "<table border=\"1\" class=\"dataframe\">\n",
       "  <thead>\n",
       "    <tr style=\"text-align: right;\">\n",
       "      <th></th>\n",
       "      <th>Age</th>\n",
       "      <th>Attrition</th>\n",
       "      <th>BusinessTravel</th>\n",
       "      <th>DailyRate</th>\n",
       "      <th>Department</th>\n",
       "      <th>DistanceFromHome</th>\n",
       "      <th>Education</th>\n",
       "      <th>EducationField</th>\n",
       "      <th>EmployeeCount</th>\n",
       "      <th>EmployeeNumber</th>\n",
       "      <th>...</th>\n",
       "      <th>RelationshipSatisfaction</th>\n",
       "      <th>StandardHours</th>\n",
       "      <th>StockOptionLevel</th>\n",
       "      <th>TotalWorkingYears</th>\n",
       "      <th>TrainingTimesLastYear</th>\n",
       "      <th>WorkLifeBalance</th>\n",
       "      <th>YearsAtCompany</th>\n",
       "      <th>YearsInCurrentRole</th>\n",
       "      <th>YearsSinceLastPromotion</th>\n",
       "      <th>YearsWithCurrManager</th>\n",
       "    </tr>\n",
       "  </thead>\n",
       "  <tbody>\n",
       "    <tr>\n",
       "      <th>0</th>\n",
       "      <td>41</td>\n",
       "      <td>Yes</td>\n",
       "      <td>Travel_Rarely</td>\n",
       "      <td>1102</td>\n",
       "      <td>Sales</td>\n",
       "      <td>1</td>\n",
       "      <td>2</td>\n",
       "      <td>Life Sciences</td>\n",
       "      <td>1</td>\n",
       "      <td>1</td>\n",
       "      <td>...</td>\n",
       "      <td>1</td>\n",
       "      <td>80</td>\n",
       "      <td>0</td>\n",
       "      <td>8</td>\n",
       "      <td>0</td>\n",
       "      <td>1</td>\n",
       "      <td>6</td>\n",
       "      <td>4</td>\n",
       "      <td>0</td>\n",
       "      <td>5</td>\n",
       "    </tr>\n",
       "    <tr>\n",
       "      <th>1</th>\n",
       "      <td>49</td>\n",
       "      <td>No</td>\n",
       "      <td>Travel_Frequently</td>\n",
       "      <td>279</td>\n",
       "      <td>Research &amp; Development</td>\n",
       "      <td>8</td>\n",
       "      <td>1</td>\n",
       "      <td>Life Sciences</td>\n",
       "      <td>1</td>\n",
       "      <td>2</td>\n",
       "      <td>...</td>\n",
       "      <td>4</td>\n",
       "      <td>80</td>\n",
       "      <td>1</td>\n",
       "      <td>10</td>\n",
       "      <td>3</td>\n",
       "      <td>3</td>\n",
       "      <td>10</td>\n",
       "      <td>7</td>\n",
       "      <td>1</td>\n",
       "      <td>7</td>\n",
       "    </tr>\n",
       "    <tr>\n",
       "      <th>2</th>\n",
       "      <td>37</td>\n",
       "      <td>Yes</td>\n",
       "      <td>Travel_Rarely</td>\n",
       "      <td>1373</td>\n",
       "      <td>Research &amp; Development</td>\n",
       "      <td>2</td>\n",
       "      <td>2</td>\n",
       "      <td>Other</td>\n",
       "      <td>1</td>\n",
       "      <td>4</td>\n",
       "      <td>...</td>\n",
       "      <td>2</td>\n",
       "      <td>80</td>\n",
       "      <td>0</td>\n",
       "      <td>7</td>\n",
       "      <td>3</td>\n",
       "      <td>3</td>\n",
       "      <td>0</td>\n",
       "      <td>0</td>\n",
       "      <td>0</td>\n",
       "      <td>0</td>\n",
       "    </tr>\n",
       "    <tr>\n",
       "      <th>3</th>\n",
       "      <td>33</td>\n",
       "      <td>No</td>\n",
       "      <td>Travel_Frequently</td>\n",
       "      <td>1392</td>\n",
       "      <td>Research &amp; Development</td>\n",
       "      <td>3</td>\n",
       "      <td>4</td>\n",
       "      <td>Life Sciences</td>\n",
       "      <td>1</td>\n",
       "      <td>5</td>\n",
       "      <td>...</td>\n",
       "      <td>3</td>\n",
       "      <td>80</td>\n",
       "      <td>0</td>\n",
       "      <td>8</td>\n",
       "      <td>3</td>\n",
       "      <td>3</td>\n",
       "      <td>8</td>\n",
       "      <td>7</td>\n",
       "      <td>3</td>\n",
       "      <td>0</td>\n",
       "    </tr>\n",
       "    <tr>\n",
       "      <th>4</th>\n",
       "      <td>27</td>\n",
       "      <td>No</td>\n",
       "      <td>Travel_Rarely</td>\n",
       "      <td>591</td>\n",
       "      <td>Research &amp; Development</td>\n",
       "      <td>2</td>\n",
       "      <td>1</td>\n",
       "      <td>Medical</td>\n",
       "      <td>1</td>\n",
       "      <td>7</td>\n",
       "      <td>...</td>\n",
       "      <td>4</td>\n",
       "      <td>80</td>\n",
       "      <td>1</td>\n",
       "      <td>6</td>\n",
       "      <td>3</td>\n",
       "      <td>3</td>\n",
       "      <td>2</td>\n",
       "      <td>2</td>\n",
       "      <td>2</td>\n",
       "      <td>2</td>\n",
       "    </tr>\n",
       "  </tbody>\n",
       "</table>\n",
       "<p>5 rows × 35 columns</p>\n",
       "</div>"
      ],
      "text/plain": [
       "   Age Attrition     BusinessTravel  DailyRate              Department  \\\n",
       "0   41       Yes      Travel_Rarely       1102                   Sales   \n",
       "1   49        No  Travel_Frequently        279  Research & Development   \n",
       "2   37       Yes      Travel_Rarely       1373  Research & Development   \n",
       "3   33        No  Travel_Frequently       1392  Research & Development   \n",
       "4   27        No      Travel_Rarely        591  Research & Development   \n",
       "\n",
       "   DistanceFromHome  Education EducationField  EmployeeCount  EmployeeNumber  \\\n",
       "0                 1          2  Life Sciences              1               1   \n",
       "1                 8          1  Life Sciences              1               2   \n",
       "2                 2          2          Other              1               4   \n",
       "3                 3          4  Life Sciences              1               5   \n",
       "4                 2          1        Medical              1               7   \n",
       "\n",
       "   ...  RelationshipSatisfaction StandardHours  StockOptionLevel  \\\n",
       "0  ...                         1            80                 0   \n",
       "1  ...                         4            80                 1   \n",
       "2  ...                         2            80                 0   \n",
       "3  ...                         3            80                 0   \n",
       "4  ...                         4            80                 1   \n",
       "\n",
       "   TotalWorkingYears  TrainingTimesLastYear WorkLifeBalance  YearsAtCompany  \\\n",
       "0                  8                      0               1               6   \n",
       "1                 10                      3               3              10   \n",
       "2                  7                      3               3               0   \n",
       "3                  8                      3               3               8   \n",
       "4                  6                      3               3               2   \n",
       "\n",
       "  YearsInCurrentRole  YearsSinceLastPromotion  YearsWithCurrManager  \n",
       "0                  4                        0                     5  \n",
       "1                  7                        1                     7  \n",
       "2                  0                        0                     0  \n",
       "3                  7                        3                     0  \n",
       "4                  2                        2                     2  \n",
       "\n",
       "[5 rows x 35 columns]"
      ]
     },
     "execution_count": 8,
     "metadata": {},
     "output_type": "execute_result"
    }
   ],
   "source": [
    "df.head()"
   ]
  },
  {
   "cell_type": "code",
   "execution_count": 9,
   "id": "69c6a1fd",
   "metadata": {},
   "outputs": [
    {
     "data": {
      "text/plain": [
       "16.12"
      ]
     },
     "execution_count": 9,
     "metadata": {},
     "output_type": "execute_result"
    }
   ],
   "source": [
    "np.round(len(df[df['Attrition'] == 'Yes']) / len(df) * 100, 2)"
   ]
  },
  {
   "cell_type": "markdown",
   "id": "fb94fd50",
   "metadata": {},
   "source": [
    "### How does it vary by age group, department, job role, or gender?"
   ]
  },
  {
   "cell_type": "markdown",
   "id": "9b03a3b9",
   "metadata": {},
   "source": [
    "### Age"
   ]
  },
  {
   "cell_type": "code",
   "execution_count": 10,
   "id": "919dc335",
   "metadata": {},
   "outputs": [],
   "source": [
    "age_bins = [18, 30, 40, 50, 61]\n",
    "age_labels = ['18-29', '30-39', '40-49', '50-60']\n",
    "df['AgeGroup'] = pd.cut(df['Age'], bins=age_bins, labels=age_labels, right=False)"
   ]
  },
  {
   "cell_type": "code",
   "execution_count": 181,
   "id": "e83fe420",
   "metadata": {},
   "outputs": [],
   "source": [
    "age_attrition = df.groupby('AgeGroup', observed=False)['Attrition'].value_counts().unstack()"
   ]
  },
  {
   "cell_type": "code",
   "execution_count": 12,
   "id": "2d966e13",
   "metadata": {},
   "outputs": [],
   "source": [
    "age_attrition['% of Attrition'] = np.round(age_attrition['Yes']/  age_attrition.sum(axis=1) * 100, 2)"
   ]
  },
  {
   "cell_type": "code",
   "execution_count": 13,
   "id": "8418db16",
   "metadata": {},
   "outputs": [],
   "source": [
    "age_attrition.columns.name = None"
   ]
  },
  {
   "cell_type": "code",
   "execution_count": 14,
   "id": "8629ede6",
   "metadata": {},
   "outputs": [],
   "source": [
    "age_attrition = age_attrition.reset_index()"
   ]
  },
  {
   "cell_type": "code",
   "execution_count": 15,
   "id": "cbeb8946",
   "metadata": {},
   "outputs": [
    {
     "data": {
      "text/html": [
       "<div>\n",
       "<style scoped>\n",
       "    .dataframe tbody tr th:only-of-type {\n",
       "        vertical-align: middle;\n",
       "    }\n",
       "\n",
       "    .dataframe tbody tr th {\n",
       "        vertical-align: top;\n",
       "    }\n",
       "\n",
       "    .dataframe thead th {\n",
       "        text-align: right;\n",
       "    }\n",
       "</style>\n",
       "<table border=\"1\" class=\"dataframe\">\n",
       "  <thead>\n",
       "    <tr style=\"text-align: right;\">\n",
       "      <th></th>\n",
       "      <th>AgeGroup</th>\n",
       "      <th>No</th>\n",
       "      <th>Yes</th>\n",
       "      <th>% of Attrition</th>\n",
       "    </tr>\n",
       "  </thead>\n",
       "  <tbody>\n",
       "    <tr>\n",
       "      <th>0</th>\n",
       "      <td>18-29</td>\n",
       "      <td>235</td>\n",
       "      <td>91</td>\n",
       "      <td>27.91</td>\n",
       "    </tr>\n",
       "    <tr>\n",
       "      <th>1</th>\n",
       "      <td>30-39</td>\n",
       "      <td>533</td>\n",
       "      <td>89</td>\n",
       "      <td>14.31</td>\n",
       "    </tr>\n",
       "    <tr>\n",
       "      <th>2</th>\n",
       "      <td>40-49</td>\n",
       "      <td>315</td>\n",
       "      <td>34</td>\n",
       "      <td>9.74</td>\n",
       "    </tr>\n",
       "    <tr>\n",
       "      <th>3</th>\n",
       "      <td>50-60</td>\n",
       "      <td>150</td>\n",
       "      <td>23</td>\n",
       "      <td>13.29</td>\n",
       "    </tr>\n",
       "  </tbody>\n",
       "</table>\n",
       "</div>"
      ],
      "text/plain": [
       "  AgeGroup   No  Yes  % of Attrition\n",
       "0    18-29  235   91           27.91\n",
       "1    30-39  533   89           14.31\n",
       "2    40-49  315   34            9.74\n",
       "3    50-60  150   23           13.29"
      ]
     },
     "execution_count": 15,
     "metadata": {},
     "output_type": "execute_result"
    }
   ],
   "source": [
    "age_attrition"
   ]
  },
  {
   "cell_type": "markdown",
   "id": "1bf13e2a",
   "metadata": {},
   "source": [
    "### Department"
   ]
  },
  {
   "cell_type": "code",
   "execution_count": 16,
   "id": "8e7e8150",
   "metadata": {},
   "outputs": [],
   "source": [
    "department_attrition = df.groupby('Department')['Attrition'].value_counts().unstack()"
   ]
  },
  {
   "cell_type": "code",
   "execution_count": 17,
   "id": "dd1d4be3",
   "metadata": {},
   "outputs": [],
   "source": [
    "department_attrition['% of Attrition'] = np.round(department_attrition['Yes'] / department_attrition.sum(axis=1) *100, 2)"
   ]
  },
  {
   "cell_type": "code",
   "execution_count": 18,
   "id": "a2fa25a3",
   "metadata": {},
   "outputs": [],
   "source": [
    "department_attrition.columns.name = None"
   ]
  },
  {
   "cell_type": "code",
   "execution_count": 19,
   "id": "a1b70482",
   "metadata": {},
   "outputs": [
    {
     "data": {
      "text/html": [
       "<div>\n",
       "<style scoped>\n",
       "    .dataframe tbody tr th:only-of-type {\n",
       "        vertical-align: middle;\n",
       "    }\n",
       "\n",
       "    .dataframe tbody tr th {\n",
       "        vertical-align: top;\n",
       "    }\n",
       "\n",
       "    .dataframe thead th {\n",
       "        text-align: right;\n",
       "    }\n",
       "</style>\n",
       "<table border=\"1\" class=\"dataframe\">\n",
       "  <thead>\n",
       "    <tr style=\"text-align: right;\">\n",
       "      <th></th>\n",
       "      <th>No</th>\n",
       "      <th>Yes</th>\n",
       "      <th>% of Attrition</th>\n",
       "    </tr>\n",
       "    <tr>\n",
       "      <th>Department</th>\n",
       "      <th></th>\n",
       "      <th></th>\n",
       "      <th></th>\n",
       "    </tr>\n",
       "  </thead>\n",
       "  <tbody>\n",
       "    <tr>\n",
       "      <th>Human Resources</th>\n",
       "      <td>51</td>\n",
       "      <td>12</td>\n",
       "      <td>19.05</td>\n",
       "    </tr>\n",
       "    <tr>\n",
       "      <th>Research &amp; Development</th>\n",
       "      <td>828</td>\n",
       "      <td>133</td>\n",
       "      <td>13.84</td>\n",
       "    </tr>\n",
       "    <tr>\n",
       "      <th>Sales</th>\n",
       "      <td>354</td>\n",
       "      <td>92</td>\n",
       "      <td>20.63</td>\n",
       "    </tr>\n",
       "  </tbody>\n",
       "</table>\n",
       "</div>"
      ],
      "text/plain": [
       "                         No  Yes  % of Attrition\n",
       "Department                                      \n",
       "Human Resources          51   12           19.05\n",
       "Research & Development  828  133           13.84\n",
       "Sales                   354   92           20.63"
      ]
     },
     "execution_count": 19,
     "metadata": {},
     "output_type": "execute_result"
    }
   ],
   "source": [
    "department_attrition"
   ]
  },
  {
   "cell_type": "markdown",
   "id": "46723017",
   "metadata": {},
   "source": [
    "### Jobrole"
   ]
  },
  {
   "cell_type": "code",
   "execution_count": 20,
   "id": "62b4fe71",
   "metadata": {},
   "outputs": [],
   "source": [
    "jobrole_attrition = df.groupby('JobRole')['Attrition'].value_counts().unstack() "
   ]
  },
  {
   "cell_type": "code",
   "execution_count": 21,
   "id": "e7e21b9f",
   "metadata": {},
   "outputs": [],
   "source": [
    "jobrole_attrition['% of Attrition'] = np.round(jobrole_attrition['Yes'] / jobrole_attrition.sum(axis=1) *100, 2)"
   ]
  },
  {
   "cell_type": "code",
   "execution_count": 22,
   "id": "173edb57",
   "metadata": {},
   "outputs": [],
   "source": [
    "jobrole_attrition.columns.name = None"
   ]
  },
  {
   "cell_type": "code",
   "execution_count": 23,
   "id": "d291d1d1",
   "metadata": {},
   "outputs": [],
   "source": [
    "jobrole_attrition = jobrole_attrition.reset_index()"
   ]
  },
  {
   "cell_type": "code",
   "execution_count": 24,
   "id": "dd11d2f1",
   "metadata": {},
   "outputs": [
    {
     "data": {
      "text/html": [
       "<div>\n",
       "<style scoped>\n",
       "    .dataframe tbody tr th:only-of-type {\n",
       "        vertical-align: middle;\n",
       "    }\n",
       "\n",
       "    .dataframe tbody tr th {\n",
       "        vertical-align: top;\n",
       "    }\n",
       "\n",
       "    .dataframe thead th {\n",
       "        text-align: right;\n",
       "    }\n",
       "</style>\n",
       "<table border=\"1\" class=\"dataframe\">\n",
       "  <thead>\n",
       "    <tr style=\"text-align: right;\">\n",
       "      <th></th>\n",
       "      <th>JobRole</th>\n",
       "      <th>No</th>\n",
       "      <th>Yes</th>\n",
       "      <th>% of Attrition</th>\n",
       "    </tr>\n",
       "  </thead>\n",
       "  <tbody>\n",
       "    <tr>\n",
       "      <th>8</th>\n",
       "      <td>Sales Representative</td>\n",
       "      <td>50</td>\n",
       "      <td>33</td>\n",
       "      <td>39.76</td>\n",
       "    </tr>\n",
       "    <tr>\n",
       "      <th>2</th>\n",
       "      <td>Laboratory Technician</td>\n",
       "      <td>197</td>\n",
       "      <td>62</td>\n",
       "      <td>23.94</td>\n",
       "    </tr>\n",
       "    <tr>\n",
       "      <th>1</th>\n",
       "      <td>Human Resources</td>\n",
       "      <td>40</td>\n",
       "      <td>12</td>\n",
       "      <td>23.08</td>\n",
       "    </tr>\n",
       "    <tr>\n",
       "      <th>7</th>\n",
       "      <td>Sales Executive</td>\n",
       "      <td>269</td>\n",
       "      <td>57</td>\n",
       "      <td>17.48</td>\n",
       "    </tr>\n",
       "    <tr>\n",
       "      <th>6</th>\n",
       "      <td>Research Scientist</td>\n",
       "      <td>245</td>\n",
       "      <td>47</td>\n",
       "      <td>16.10</td>\n",
       "    </tr>\n",
       "    <tr>\n",
       "      <th>4</th>\n",
       "      <td>Manufacturing Director</td>\n",
       "      <td>135</td>\n",
       "      <td>10</td>\n",
       "      <td>6.90</td>\n",
       "    </tr>\n",
       "    <tr>\n",
       "      <th>0</th>\n",
       "      <td>Healthcare Representative</td>\n",
       "      <td>122</td>\n",
       "      <td>9</td>\n",
       "      <td>6.87</td>\n",
       "    </tr>\n",
       "    <tr>\n",
       "      <th>3</th>\n",
       "      <td>Manager</td>\n",
       "      <td>97</td>\n",
       "      <td>5</td>\n",
       "      <td>4.90</td>\n",
       "    </tr>\n",
       "    <tr>\n",
       "      <th>5</th>\n",
       "      <td>Research Director</td>\n",
       "      <td>78</td>\n",
       "      <td>2</td>\n",
       "      <td>2.50</td>\n",
       "    </tr>\n",
       "  </tbody>\n",
       "</table>\n",
       "</div>"
      ],
      "text/plain": [
       "                     JobRole   No  Yes  % of Attrition\n",
       "8       Sales Representative   50   33           39.76\n",
       "2      Laboratory Technician  197   62           23.94\n",
       "1            Human Resources   40   12           23.08\n",
       "7            Sales Executive  269   57           17.48\n",
       "6         Research Scientist  245   47           16.10\n",
       "4     Manufacturing Director  135   10            6.90\n",
       "0  Healthcare Representative  122    9            6.87\n",
       "3                    Manager   97    5            4.90\n",
       "5          Research Director   78    2            2.50"
      ]
     },
     "execution_count": 24,
     "metadata": {},
     "output_type": "execute_result"
    }
   ],
   "source": [
    "jobrole_attrition.sort_values(by='% of Attrition', ascending=False)"
   ]
  },
  {
   "cell_type": "markdown",
   "id": "23d729c6",
   "metadata": {},
   "source": [
    "### Gender"
   ]
  },
  {
   "cell_type": "code",
   "execution_count": 25,
   "id": "bb20c38d",
   "metadata": {},
   "outputs": [],
   "source": [
    "gender_attrition = df.groupby('Gender')['Attrition'].value_counts().unstack()"
   ]
  },
  {
   "cell_type": "code",
   "execution_count": 26,
   "id": "b8f3635f",
   "metadata": {},
   "outputs": [],
   "source": [
    "gender_attrition['% of Attrition'] = np.round(gender_attrition['Yes'] / gender_attrition.sum(axis=1) * 100, 2)"
   ]
  },
  {
   "cell_type": "code",
   "execution_count": 27,
   "id": "54eec9a2",
   "metadata": {},
   "outputs": [],
   "source": [
    "gender_attrition.columns.name = None"
   ]
  },
  {
   "cell_type": "code",
   "execution_count": 28,
   "id": "07611c36",
   "metadata": {},
   "outputs": [],
   "source": [
    "gender_attrition = gender_attrition.reset_index()"
   ]
  },
  {
   "cell_type": "code",
   "execution_count": 29,
   "id": "17ac5b3c",
   "metadata": {},
   "outputs": [
    {
     "data": {
      "text/html": [
       "<div>\n",
       "<style scoped>\n",
       "    .dataframe tbody tr th:only-of-type {\n",
       "        vertical-align: middle;\n",
       "    }\n",
       "\n",
       "    .dataframe tbody tr th {\n",
       "        vertical-align: top;\n",
       "    }\n",
       "\n",
       "    .dataframe thead th {\n",
       "        text-align: right;\n",
       "    }\n",
       "</style>\n",
       "<table border=\"1\" class=\"dataframe\">\n",
       "  <thead>\n",
       "    <tr style=\"text-align: right;\">\n",
       "      <th></th>\n",
       "      <th>Gender</th>\n",
       "      <th>No</th>\n",
       "      <th>Yes</th>\n",
       "      <th>% of Attrition</th>\n",
       "    </tr>\n",
       "  </thead>\n",
       "  <tbody>\n",
       "    <tr>\n",
       "      <th>0</th>\n",
       "      <td>Female</td>\n",
       "      <td>501</td>\n",
       "      <td>87</td>\n",
       "      <td>14.80</td>\n",
       "    </tr>\n",
       "    <tr>\n",
       "      <th>1</th>\n",
       "      <td>Male</td>\n",
       "      <td>732</td>\n",
       "      <td>150</td>\n",
       "      <td>17.01</td>\n",
       "    </tr>\n",
       "  </tbody>\n",
       "</table>\n",
       "</div>"
      ],
      "text/plain": [
       "   Gender   No  Yes  % of Attrition\n",
       "0  Female  501   87           14.80\n",
       "1    Male  732  150           17.01"
      ]
     },
     "execution_count": 29,
     "metadata": {},
     "output_type": "execute_result"
    }
   ],
   "source": [
    "gender_attrition"
   ]
  },
  {
   "cell_type": "markdown",
   "id": "cf70bba0",
   "metadata": {},
   "source": [
    "## Demographics"
   ]
  },
  {
   "cell_type": "markdown",
   "id": "593b8db2",
   "metadata": {},
   "source": [
    "### What is the distribution of age, gender, education level, and marital status?"
   ]
  },
  {
   "cell_type": "markdown",
   "id": "184b70f1",
   "metadata": {},
   "source": [
    "### Age"
   ]
  },
  {
   "cell_type": "code",
   "execution_count": 180,
   "id": "c645204b",
   "metadata": {},
   "outputs": [],
   "source": [
    "age_distribution = df.groupby('AgeGroup', as_index = False, observed=False).size()"
   ]
  },
  {
   "cell_type": "code",
   "execution_count": 31,
   "id": "386795d9",
   "metadata": {},
   "outputs": [
    {
     "data": {
      "image/png": "[encoded data removed]",
      "text/plain": [
       "<Figure size 1000x600 with 1 Axes>"
      ]
     },
     "metadata": {},
     "output_type": "display_data"
    }
   ],
   "source": [
    "plt.figure(figsize=(10, 6))\n",
    "sns.barplot(age_distribution, x = 'AgeGroup', y = 'size')\n",
    "\n",
    "plt.xlabel('Age Group')\n",
    "plt.ylabel('Count')\n",
    "plt.tight_layout()"
   ]
  },
  {
   "cell_type": "markdown",
   "id": "9daeb5a9",
   "metadata": {},
   "source": [
    "### Gender"
   ]
  },
  {
   "cell_type": "code",
   "execution_count": 32,
   "id": "e0604f42",
   "metadata": {},
   "outputs": [],
   "source": [
    "gender_distribution = df.groupby('Gender').size().reset_index(name='Count')"
   ]
  },
  {
   "cell_type": "code",
   "execution_count": 33,
   "id": "f9856d44",
   "metadata": {},
   "outputs": [],
   "source": [
    "gender_distribution['Percentage'] = np.round(gender_distribution['Count'] / gender_distribution['Count'].sum(axis=0) * 100, 2)"
   ]
  },
  {
   "cell_type": "code",
   "execution_count": 34,
   "id": "eef80cd2",
   "metadata": {},
   "outputs": [
    {
     "data": {
      "text/html": [
       "<div>\n",
       "<style scoped>\n",
       "    .dataframe tbody tr th:only-of-type {\n",
       "        vertical-align: middle;\n",
       "    }\n",
       "\n",
       "    .dataframe tbody tr th {\n",
       "        vertical-align: top;\n",
       "    }\n",
       "\n",
       "    .dataframe thead th {\n",
       "        text-align: right;\n",
       "    }\n",
       "</style>\n",
       "<table border=\"1\" class=\"dataframe\">\n",
       "  <thead>\n",
       "    <tr style=\"text-align: right;\">\n",
       "      <th></th>\n",
       "      <th>Gender</th>\n",
       "      <th>Count</th>\n",
       "      <th>Percentage</th>\n",
       "    </tr>\n",
       "  </thead>\n",
       "  <tbody>\n",
       "    <tr>\n",
       "      <th>0</th>\n",
       "      <td>Female</td>\n",
       "      <td>588</td>\n",
       "      <td>40.0</td>\n",
       "    </tr>\n",
       "    <tr>\n",
       "      <th>1</th>\n",
       "      <td>Male</td>\n",
       "      <td>882</td>\n",
       "      <td>60.0</td>\n",
       "    </tr>\n",
       "  </tbody>\n",
       "</table>\n",
       "</div>"
      ],
      "text/plain": [
       "   Gender  Count  Percentage\n",
       "0  Female    588        40.0\n",
       "1    Male    882        60.0"
      ]
     },
     "execution_count": 34,
     "metadata": {},
     "output_type": "execute_result"
    }
   ],
   "source": [
    "gender_distribution"
   ]
  },
  {
   "cell_type": "markdown",
   "id": "c7b26d9b",
   "metadata": {},
   "source": [
    "### Education level"
   ]
  },
  {
   "cell_type": "code",
   "execution_count": 35,
   "id": "42f7b34c",
   "metadata": {},
   "outputs": [],
   "source": [
    "education_df = pd.read_csv('Dataset/education.csv')"
   ]
  },
  {
   "cell_type": "code",
   "execution_count": 36,
   "id": "2e499912",
   "metadata": {},
   "outputs": [
    {
     "data": {
      "text/html": [
       "<div>\n",
       "<style scoped>\n",
       "    .dataframe tbody tr th:only-of-type {\n",
       "        vertical-align: middle;\n",
       "    }\n",
       "\n",
       "    .dataframe tbody tr th {\n",
       "        vertical-align: top;\n",
       "    }\n",
       "\n",
       "    .dataframe thead th {\n",
       "        text-align: right;\n",
       "    }\n",
       "</style>\n",
       "<table border=\"1\" class=\"dataframe\">\n",
       "  <thead>\n",
       "    <tr style=\"text-align: right;\">\n",
       "      <th></th>\n",
       "      <th>EducationCode</th>\n",
       "      <th>EducationType</th>\n",
       "    </tr>\n",
       "  </thead>\n",
       "  <tbody>\n",
       "    <tr>\n",
       "      <th>0</th>\n",
       "      <td>1</td>\n",
       "      <td>Below College</td>\n",
       "    </tr>\n",
       "    <tr>\n",
       "      <th>1</th>\n",
       "      <td>2</td>\n",
       "      <td>College</td>\n",
       "    </tr>\n",
       "    <tr>\n",
       "      <th>2</th>\n",
       "      <td>3</td>\n",
       "      <td>Bachelor</td>\n",
       "    </tr>\n",
       "    <tr>\n",
       "      <th>3</th>\n",
       "      <td>4</td>\n",
       "      <td>Master</td>\n",
       "    </tr>\n",
       "    <tr>\n",
       "      <th>4</th>\n",
       "      <td>5</td>\n",
       "      <td>Doctor</td>\n",
       "    </tr>\n",
       "  </tbody>\n",
       "</table>\n",
       "</div>"
      ],
      "text/plain": [
       "   EducationCode  EducationType\n",
       "0              1  Below College\n",
       "1              2        College\n",
       "2              3       Bachelor\n",
       "3              4         Master\n",
       "4              5         Doctor"
      ]
     },
     "execution_count": 36,
     "metadata": {},
     "output_type": "execute_result"
    }
   ],
   "source": [
    "education_df"
   ]
  },
  {
   "cell_type": "code",
   "execution_count": 37,
   "id": "57299d25",
   "metadata": {},
   "outputs": [],
   "source": [
    "education_distribution = df.groupby('Education', as_index=False).size()"
   ]
  },
  {
   "cell_type": "code",
   "execution_count": 38,
   "id": "34bb5361",
   "metadata": {},
   "outputs": [],
   "source": [
    "education_distribution = education_distribution.merge(education_df, left_on='Education', right_on = 'EducationCode')[['EducationType', 'size']]"
   ]
  },
  {
   "cell_type": "code",
   "execution_count": 39,
   "id": "6dceb672",
   "metadata": {},
   "outputs": [
    {
     "data": {
      "image/png": "[encoded data removed]",
      "text/plain": [
       "<Figure size 1000x600 with 1 Axes>"
      ]
     },
     "metadata": {},
     "output_type": "display_data"
    }
   ],
   "source": [
    "plt.figure(figsize=(10,6))\n",
    "\n",
    "sns.barplot(education_distribution, x='EducationType', y='size')\n",
    "\n",
    "plt.xlabel('Education Type')\n",
    "plt.ylabel('Count')\n",
    "plt.tight_layout()"
   ]
  },
  {
   "cell_type": "markdown",
   "id": "a780b5e9",
   "metadata": {},
   "source": [
    "### Marital status"
   ]
  },
  {
   "cell_type": "code",
   "execution_count": 40,
   "id": "b001a3e4",
   "metadata": {},
   "outputs": [],
   "source": [
    "marital_distribution = df.groupby('MaritalStatus', as_index=False).size()"
   ]
  },
  {
   "cell_type": "code",
   "execution_count": 41,
   "id": "e998751e",
   "metadata": {},
   "outputs": [
    {
     "data": {
      "image/png": "[encoded data removed]",
      "text/plain": [
       "<Figure size 800x600 with 1 Axes>"
      ]
     },
     "metadata": {},
     "output_type": "display_data"
    }
   ],
   "source": [
    "plt.figure(figsize=(8,6))\n",
    "\n",
    "sns.barplot(marital_distribution, x = 'MaritalStatus', y = 'size')\n",
    "\n",
    "plt.xlabel('Marital Status')\n",
    "plt.ylabel('Count')\n",
    "plt.tight_layout()"
   ]
  },
  {
   "cell_type": "markdown",
   "id": "5a612046",
   "metadata": {},
   "source": [
    "### What is the average tenure (YearsAtCompany) and income across the company?"
   ]
  },
  {
   "cell_type": "code",
   "execution_count": 42,
   "id": "e7858879",
   "metadata": {},
   "outputs": [
    {
     "data": {
      "text/plain": [
       "YearsAtCompany       7.008163\n",
       "MonthlyIncome     6502.931293\n",
       "dtype: float64"
      ]
     },
     "execution_count": 42,
     "metadata": {},
     "output_type": "execute_result"
    }
   ],
   "source": [
    "df[['YearsAtCompany', 'MonthlyIncome']].mean()"
   ]
  },
  {
   "cell_type": "markdown",
   "id": "30965eae",
   "metadata": {},
   "source": [
    "## Satisfaction Levels"
   ]
  },
  {
   "cell_type": "markdown",
   "id": "8ba86e7f",
   "metadata": {},
   "source": [
    "### What percentage of employees report low vs high job satisfaction, environment satisfaction, and work-life balance?"
   ]
  },
  {
   "cell_type": "markdown",
   "id": "f2005bc4",
   "metadata": {},
   "source": [
    "### Job Satisfaction"
   ]
  },
  {
   "cell_type": "code",
   "execution_count": 43,
   "id": "2f0e7036",
   "metadata": {},
   "outputs": [],
   "source": [
    "job_satisfaction_df = pd.read_csv('Dataset/job_satisfaction.csv')"
   ]
  },
  {
   "cell_type": "code",
   "execution_count": 44,
   "id": "f6c5f1fc",
   "metadata": {},
   "outputs": [
    {
     "data": {
      "text/html": [
       "<div>\n",
       "<style scoped>\n",
       "    .dataframe tbody tr th:only-of-type {\n",
       "        vertical-align: middle;\n",
       "    }\n",
       "\n",
       "    .dataframe tbody tr th {\n",
       "        vertical-align: top;\n",
       "    }\n",
       "\n",
       "    .dataframe thead th {\n",
       "        text-align: right;\n",
       "    }\n",
       "</style>\n",
       "<table border=\"1\" class=\"dataframe\">\n",
       "  <thead>\n",
       "    <tr style=\"text-align: right;\">\n",
       "      <th></th>\n",
       "      <th>JobSatisfactionCode</th>\n",
       "      <th>JobSatisfactionType</th>\n",
       "    </tr>\n",
       "  </thead>\n",
       "  <tbody>\n",
       "    <tr>\n",
       "      <th>0</th>\n",
       "      <td>1</td>\n",
       "      <td>Low</td>\n",
       "    </tr>\n",
       "    <tr>\n",
       "      <th>1</th>\n",
       "      <td>2</td>\n",
       "      <td>Medium</td>\n",
       "    </tr>\n",
       "    <tr>\n",
       "      <th>2</th>\n",
       "      <td>3</td>\n",
       "      <td>High</td>\n",
       "    </tr>\n",
       "    <tr>\n",
       "      <th>3</th>\n",
       "      <td>4</td>\n",
       "      <td>Very High</td>\n",
       "    </tr>\n",
       "  </tbody>\n",
       "</table>\n",
       "</div>"
      ],
      "text/plain": [
       "   JobSatisfactionCode JobSatisfactionType\n",
       "0                    1                 Low\n",
       "1                    2              Medium\n",
       "2                    3                High\n",
       "3                    4           Very High"
      ]
     },
     "execution_count": 44,
     "metadata": {},
     "output_type": "execute_result"
    }
   ],
   "source": [
    "job_satisfaction_df"
   ]
  },
  {
   "cell_type": "code",
   "execution_count": 45,
   "id": "9b4f7a33",
   "metadata": {},
   "outputs": [],
   "source": [
    "job_satisfaction = df.groupby('JobSatisfaction', as_index=False).size()"
   ]
  },
  {
   "cell_type": "code",
   "execution_count": 46,
   "id": "678aeb8b",
   "metadata": {},
   "outputs": [],
   "source": [
    "job_satisfaction = job_satisfaction.merge(job_satisfaction_df, left_on = 'JobSatisfaction', right_on='JobSatisfactionCode')[['JobSatisfactionType', 'size']]"
   ]
  },
  {
   "cell_type": "code",
   "execution_count": 47,
   "id": "67bbb9fa",
   "metadata": {},
   "outputs": [
    {
     "data": {
      "image/png": "[encoded data removed]",
      "text/plain": [
       "<Figure size 1000x600 with 1 Axes>"
      ]
     },
     "metadata": {},
     "output_type": "display_data"
    }
   ],
   "source": [
    "job_satisfaction['percent'] = job_satisfaction['size'] / job_satisfaction['size'].sum() * 100\n",
    "\n",
    "plt.figure(figsize=(10,6))\n",
    "\n",
    "ax = sns.barplot(job_satisfaction, x = 'JobSatisfactionType', y = 'size')\n",
    "for i, row in job_satisfaction.iterrows():\n",
    "    ax.text(i, row['size'] + 5, f\"{row['percent']:.1f}%\", ha='center')\n",
    "\n",
    "plt.xlabel('Job Satisfaction')\n",
    "plt.ylabel('Count')\n",
    "plt.tight_layout()"
   ]
  },
  {
   "cell_type": "markdown",
   "id": "2f4a73cb",
   "metadata": {},
   "source": [
    "### Environment Satisfaction"
   ]
  },
  {
   "cell_type": "code",
   "execution_count": 48,
   "id": "d8e1352a",
   "metadata": {},
   "outputs": [],
   "source": [
    "environment_satisfaction_df = pd.read_csv('Dataset/environment_satisfaction.csv')"
   ]
  },
  {
   "cell_type": "code",
   "execution_count": 49,
   "id": "e8a12d9e",
   "metadata": {},
   "outputs": [
    {
     "data": {
      "text/html": [
       "<div>\n",
       "<style scoped>\n",
       "    .dataframe tbody tr th:only-of-type {\n",
       "        vertical-align: middle;\n",
       "    }\n",
       "\n",
       "    .dataframe tbody tr th {\n",
       "        vertical-align: top;\n",
       "    }\n",
       "\n",
       "    .dataframe thead th {\n",
       "        text-align: right;\n",
       "    }\n",
       "</style>\n",
       "<table border=\"1\" class=\"dataframe\">\n",
       "  <thead>\n",
       "    <tr style=\"text-align: right;\">\n",
       "      <th></th>\n",
       "      <th>EnvironmentSatisfactionCode</th>\n",
       "      <th>EnvironmentSatisfactionType</th>\n",
       "    </tr>\n",
       "  </thead>\n",
       "  <tbody>\n",
       "    <tr>\n",
       "      <th>0</th>\n",
       "      <td>1</td>\n",
       "      <td>Low</td>\n",
       "    </tr>\n",
       "    <tr>\n",
       "      <th>1</th>\n",
       "      <td>2</td>\n",
       "      <td>Medium</td>\n",
       "    </tr>\n",
       "    <tr>\n",
       "      <th>2</th>\n",
       "      <td>3</td>\n",
       "      <td>High</td>\n",
       "    </tr>\n",
       "    <tr>\n",
       "      <th>3</th>\n",
       "      <td>4</td>\n",
       "      <td>Very High</td>\n",
       "    </tr>\n",
       "  </tbody>\n",
       "</table>\n",
       "</div>"
      ],
      "text/plain": [
       "   EnvironmentSatisfactionCode EnvironmentSatisfactionType\n",
       "0                            1                         Low\n",
       "1                            2                      Medium\n",
       "2                            3                        High\n",
       "3                            4                   Very High"
      ]
     },
     "execution_count": 49,
     "metadata": {},
     "output_type": "execute_result"
    }
   ],
   "source": [
    "environment_satisfaction_df"
   ]
  },
  {
   "cell_type": "code",
   "execution_count": 50,
   "id": "415ff616",
   "metadata": {},
   "outputs": [],
   "source": [
    "environmemt_satisfaction = df.groupby('EnvironmentSatisfaction', as_index=False).size()"
   ]
  },
  {
   "cell_type": "code",
   "execution_count": 51,
   "id": "38989aa8",
   "metadata": {},
   "outputs": [],
   "source": [
    "environmemt_satisfaction = environmemt_satisfaction.merge(environment_satisfaction_df, left_on = 'EnvironmentSatisfaction', right_on='EnvironmentSatisfactionCode')[['EnvironmentSatisfactionType', 'size']]"
   ]
  },
  {
   "cell_type": "code",
   "execution_count": 52,
   "id": "fa2ab859",
   "metadata": {},
   "outputs": [
    {
     "data": {
      "image/png": "[encoded data removed]",
      "text/plain": [
       "<Figure size 1000x600 with 1 Axes>"
      ]
     },
     "metadata": {},
     "output_type": "display_data"
    }
   ],
   "source": [
    "environmemt_satisfaction['percent'] = environmemt_satisfaction['size'] / environmemt_satisfaction['size'].sum() * 100\n",
    "\n",
    "plt.figure(figsize=(10,6))\n",
    "\n",
    "ax = sns.barplot(environmemt_satisfaction, x = 'EnvironmentSatisfactionType', y = 'size')\n",
    "for i, row in environmemt_satisfaction.iterrows():\n",
    "    ax.text(i, row['size'] + 5, f\"{row['percent']:.1f}%\", ha='center')\n",
    "\n",
    "plt.xlabel('Environment Satisfaction')\n",
    "plt.ylabel('Count')\n",
    "plt.tight_layout()"
   ]
  },
  {
   "cell_type": "markdown",
   "id": "ff616804",
   "metadata": {},
   "source": [
    "### Work life balance"
   ]
  },
  {
   "cell_type": "code",
   "execution_count": 53,
   "id": "dc66a31b",
   "metadata": {},
   "outputs": [],
   "source": [
    "work_life_balance_df = pd.read_csv('Dataset/work_life_balance.csv')"
   ]
  },
  {
   "cell_type": "code",
   "execution_count": 54,
   "id": "25e196f6",
   "metadata": {},
   "outputs": [
    {
     "data": {
      "text/html": [
       "<div>\n",
       "<style scoped>\n",
       "    .dataframe tbody tr th:only-of-type {\n",
       "        vertical-align: middle;\n",
       "    }\n",
       "\n",
       "    .dataframe tbody tr th {\n",
       "        vertical-align: top;\n",
       "    }\n",
       "\n",
       "    .dataframe thead th {\n",
       "        text-align: right;\n",
       "    }\n",
       "</style>\n",
       "<table border=\"1\" class=\"dataframe\">\n",
       "  <thead>\n",
       "    <tr style=\"text-align: right;\">\n",
       "      <th></th>\n",
       "      <th>WorkLifeBalanceCode</th>\n",
       "      <th>WorkLifeBalanceType</th>\n",
       "    </tr>\n",
       "  </thead>\n",
       "  <tbody>\n",
       "    <tr>\n",
       "      <th>0</th>\n",
       "      <td>1</td>\n",
       "      <td>Bad</td>\n",
       "    </tr>\n",
       "    <tr>\n",
       "      <th>1</th>\n",
       "      <td>2</td>\n",
       "      <td>Good</td>\n",
       "    </tr>\n",
       "    <tr>\n",
       "      <th>2</th>\n",
       "      <td>3</td>\n",
       "      <td>Better</td>\n",
       "    </tr>\n",
       "    <tr>\n",
       "      <th>3</th>\n",
       "      <td>4</td>\n",
       "      <td>Best</td>\n",
       "    </tr>\n",
       "  </tbody>\n",
       "</table>\n",
       "</div>"
      ],
      "text/plain": [
       "   WorkLifeBalanceCode WorkLifeBalanceType\n",
       "0                    1                 Bad\n",
       "1                    2                Good\n",
       "2                    3              Better\n",
       "3                    4                Best"
      ]
     },
     "execution_count": 54,
     "metadata": {},
     "output_type": "execute_result"
    }
   ],
   "source": [
    "work_life_balance_df"
   ]
  },
  {
   "cell_type": "code",
   "execution_count": 55,
   "id": "7e4dae92",
   "metadata": {},
   "outputs": [],
   "source": [
    "work_life_balance = df.groupby('WorkLifeBalance', as_index=False).size()"
   ]
  },
  {
   "cell_type": "code",
   "execution_count": 56,
   "id": "6473fe1a",
   "metadata": {},
   "outputs": [],
   "source": [
    "work_life_balance = work_life_balance.merge(work_life_balance_df, left_on = 'WorkLifeBalance', right_on='WorkLifeBalanceCode')[['WorkLifeBalanceType', 'size']]"
   ]
  },
  {
   "cell_type": "code",
   "execution_count": 57,
   "id": "29acbd33",
   "metadata": {},
   "outputs": [
    {
     "data": {
      "image/png": "[encoded data removed]",
      "text/plain": [
       "<Figure size 1000x600 with 1 Axes>"
      ]
     },
     "metadata": {},
     "output_type": "display_data"
    }
   ],
   "source": [
    "work_life_balance['percent'] = work_life_balance['size'] / work_life_balance['size'].sum() * 100\n",
    "\n",
    "plt.figure(figsize=(10,6))\n",
    "\n",
    "ax = sns.barplot(work_life_balance, x = 'WorkLifeBalanceType', y = 'size')\n",
    "for i, row in work_life_balance.iterrows():\n",
    "    ax.text(i, row['size'] + 5, f\"{row['percent']:.1f}%\", ha='center')\n",
    "\n",
    "plt.xlabel('Work Life Balance')\n",
    "plt.ylabel('Count')\n",
    "plt.tight_layout()"
   ]
  },
  {
   "cell_type": "markdown",
   "id": "0a080d58",
   "metadata": {},
   "source": [
    "## Workload Insights"
   ]
  },
  {
   "cell_type": "markdown",
   "id": "704e440e",
   "metadata": {},
   "source": [
    "### How many employees work overtime?"
   ]
  },
  {
   "cell_type": "code",
   "execution_count": 58,
   "id": "0153fc1c",
   "metadata": {},
   "outputs": [],
   "source": [
    "overtime = df.groupby('OverTime', as_index=False).size()"
   ]
  },
  {
   "cell_type": "code",
   "execution_count": 59,
   "id": "498592f2",
   "metadata": {},
   "outputs": [],
   "source": [
    "overtime['Percentage'] = np.round(overtime['size'] / overtime['size'].sum(axis=0) * 100, 2)"
   ]
  },
  {
   "cell_type": "code",
   "execution_count": 60,
   "id": "953a4d63",
   "metadata": {},
   "outputs": [
    {
     "data": {
      "text/html": [
       "<div>\n",
       "<style scoped>\n",
       "    .dataframe tbody tr th:only-of-type {\n",
       "        vertical-align: middle;\n",
       "    }\n",
       "\n",
       "    .dataframe tbody tr th {\n",
       "        vertical-align: top;\n",
       "    }\n",
       "\n",
       "    .dataframe thead th {\n",
       "        text-align: right;\n",
       "    }\n",
       "</style>\n",
       "<table border=\"1\" class=\"dataframe\">\n",
       "  <thead>\n",
       "    <tr style=\"text-align: right;\">\n",
       "      <th></th>\n",
       "      <th>OverTime</th>\n",
       "      <th>size</th>\n",
       "      <th>Percentage</th>\n",
       "    </tr>\n",
       "  </thead>\n",
       "  <tbody>\n",
       "    <tr>\n",
       "      <th>0</th>\n",
       "      <td>No</td>\n",
       "      <td>1054</td>\n",
       "      <td>71.7</td>\n",
       "    </tr>\n",
       "    <tr>\n",
       "      <th>1</th>\n",
       "      <td>Yes</td>\n",
       "      <td>416</td>\n",
       "      <td>28.3</td>\n",
       "    </tr>\n",
       "  </tbody>\n",
       "</table>\n",
       "</div>"
      ],
      "text/plain": [
       "  OverTime  size  Percentage\n",
       "0       No  1054        71.7\n",
       "1      Yes   416        28.3"
      ]
     },
     "execution_count": 60,
     "metadata": {},
     "output_type": "execute_result"
    }
   ],
   "source": [
    "overtime"
   ]
  },
  {
   "cell_type": "markdown",
   "id": "94774fd4",
   "metadata": {},
   "source": [
    "### How does overtime vary by department or job role?"
   ]
  },
  {
   "cell_type": "markdown",
   "id": "2f97e233",
   "metadata": {},
   "source": [
    "### Department"
   ]
  },
  {
   "cell_type": "code",
   "execution_count": 61,
   "id": "7e76fd0d",
   "metadata": {},
   "outputs": [],
   "source": [
    "department_overtime = (\n",
    "    df.groupby([\"Department\", \"OverTime\"])\n",
    "      .size()\n",
    "      .reset_index(name=\"Count\")\n",
    "      .pivot(index=\"Department\", columns=\"OverTime\", values=\"Count\")\n",
    "      .fillna(0)\n",
    "      .reset_index()\n",
    ")"
   ]
  },
  {
   "cell_type": "code",
   "execution_count": 62,
   "id": "61a9c32c",
   "metadata": {},
   "outputs": [],
   "source": [
    "department_overtime[\"Total\"] = department_overtime[\"No\"] + department_overtime[\"Yes\"]"
   ]
  },
  {
   "cell_type": "code",
   "execution_count": 63,
   "id": "09676fc7",
   "metadata": {},
   "outputs": [],
   "source": [
    "department_overtime[\"% of OverTime\"] = np.round(\n",
    "    department_overtime[\"Yes\"] / department_overtime[\"Total\"] * 100, 2\n",
    ")"
   ]
  },
  {
   "cell_type": "code",
   "execution_count": 64,
   "id": "3c29dae5",
   "metadata": {},
   "outputs": [],
   "source": [
    "department_overtime.columns.name = None"
   ]
  },
  {
   "cell_type": "code",
   "execution_count": 65,
   "id": "878fa3a0",
   "metadata": {},
   "outputs": [
    {
     "data": {
      "text/html": [
       "<div>\n",
       "<style scoped>\n",
       "    .dataframe tbody tr th:only-of-type {\n",
       "        vertical-align: middle;\n",
       "    }\n",
       "\n",
       "    .dataframe tbody tr th {\n",
       "        vertical-align: top;\n",
       "    }\n",
       "\n",
       "    .dataframe thead th {\n",
       "        text-align: right;\n",
       "    }\n",
       "</style>\n",
       "<table border=\"1\" class=\"dataframe\">\n",
       "  <thead>\n",
       "    <tr style=\"text-align: right;\">\n",
       "      <th></th>\n",
       "      <th>Department</th>\n",
       "      <th>No</th>\n",
       "      <th>Yes</th>\n",
       "      <th>Total</th>\n",
       "      <th>% of OverTime</th>\n",
       "    </tr>\n",
       "  </thead>\n",
       "  <tbody>\n",
       "    <tr>\n",
       "      <th>0</th>\n",
       "      <td>Human Resources</td>\n",
       "      <td>46</td>\n",
       "      <td>17</td>\n",
       "      <td>63</td>\n",
       "      <td>26.98</td>\n",
       "    </tr>\n",
       "    <tr>\n",
       "      <th>1</th>\n",
       "      <td>Research &amp; Development</td>\n",
       "      <td>690</td>\n",
       "      <td>271</td>\n",
       "      <td>961</td>\n",
       "      <td>28.20</td>\n",
       "    </tr>\n",
       "    <tr>\n",
       "      <th>2</th>\n",
       "      <td>Sales</td>\n",
       "      <td>318</td>\n",
       "      <td>128</td>\n",
       "      <td>446</td>\n",
       "      <td>28.70</td>\n",
       "    </tr>\n",
       "  </tbody>\n",
       "</table>\n",
       "</div>"
      ],
      "text/plain": [
       "               Department   No  Yes  Total  % of OverTime\n",
       "0         Human Resources   46   17     63          26.98\n",
       "1  Research & Development  690  271    961          28.20\n",
       "2                   Sales  318  128    446          28.70"
      ]
     },
     "execution_count": 65,
     "metadata": {},
     "output_type": "execute_result"
    }
   ],
   "source": [
    "department_overtime"
   ]
  },
  {
   "cell_type": "code",
   "execution_count": 168,
   "id": "dcb98641",
   "metadata": {},
   "outputs": [
    {
     "data": {
      "image/png": "[encoded data removed]",
      "text/plain": [
       "<Figure size 800x500 with 1 Axes>"
      ]
     },
     "metadata": {},
     "output_type": "display_data"
    }
   ],
   "source": [
    "plt.figure(figsize=(8,5))\n",
    "sns.barplot(department_overtime, x=\"Department\", y=\"% of OverTime\")\n",
    "\n",
    "plt.title(\"OverTime Distribution by Department\")\n",
    "plt.tight_layout()"
   ]
  },
  {
   "cell_type": "markdown",
   "id": "b2d862b2",
   "metadata": {},
   "source": [
    "### Job Role"
   ]
  },
  {
   "cell_type": "code",
   "execution_count": 67,
   "id": "39d29955",
   "metadata": {},
   "outputs": [],
   "source": [
    "role_overtime = (\n",
    "    df.groupby(['JobRole', 'OverTime'])\n",
    "    .size()\n",
    "    .reset_index(name='Count')\n",
    "    .pivot(index='JobRole', columns='OverTime', values='Count')\n",
    "    .fillna(0)\n",
    "    .reset_index()\n",
    ")"
   ]
  },
  {
   "cell_type": "code",
   "execution_count": 68,
   "id": "ac34f900",
   "metadata": {},
   "outputs": [],
   "source": [
    "role_overtime['Total'] = role_overtime['No'] + role_overtime['Yes']"
   ]
  },
  {
   "cell_type": "code",
   "execution_count": 69,
   "id": "3a336ec5",
   "metadata": {},
   "outputs": [],
   "source": [
    "role_overtime['% of OverTime'] = np.round(role_overtime['Yes']/role_overtime['Total'] * 100, 2)"
   ]
  },
  {
   "cell_type": "code",
   "execution_count": 70,
   "id": "c0e842b3",
   "metadata": {},
   "outputs": [],
   "source": [
    "role_overtime.columns.name = None"
   ]
  },
  {
   "cell_type": "code",
   "execution_count": 71,
   "id": "635296e7",
   "metadata": {},
   "outputs": [
    {
     "data": {
      "text/html": [
       "<div>\n",
       "<style scoped>\n",
       "    .dataframe tbody tr th:only-of-type {\n",
       "        vertical-align: middle;\n",
       "    }\n",
       "\n",
       "    .dataframe tbody tr th {\n",
       "        vertical-align: top;\n",
       "    }\n",
       "\n",
       "    .dataframe thead th {\n",
       "        text-align: right;\n",
       "    }\n",
       "</style>\n",
       "<table border=\"1\" class=\"dataframe\">\n",
       "  <thead>\n",
       "    <tr style=\"text-align: right;\">\n",
       "      <th></th>\n",
       "      <th>JobRole</th>\n",
       "      <th>% of OverTime</th>\n",
       "    </tr>\n",
       "  </thead>\n",
       "  <tbody>\n",
       "    <tr>\n",
       "      <th>6</th>\n",
       "      <td>Research Scientist</td>\n",
       "      <td>33.22</td>\n",
       "    </tr>\n",
       "    <tr>\n",
       "      <th>8</th>\n",
       "      <td>Sales Representative</td>\n",
       "      <td>28.92</td>\n",
       "    </tr>\n",
       "    <tr>\n",
       "      <th>7</th>\n",
       "      <td>Sales Executive</td>\n",
       "      <td>28.83</td>\n",
       "    </tr>\n",
       "    <tr>\n",
       "      <th>5</th>\n",
       "      <td>Research Director</td>\n",
       "      <td>28.75</td>\n",
       "    </tr>\n",
       "    <tr>\n",
       "      <th>0</th>\n",
       "      <td>Healthcare Representative</td>\n",
       "      <td>28.24</td>\n",
       "    </tr>\n",
       "    <tr>\n",
       "      <th>4</th>\n",
       "      <td>Manufacturing Director</td>\n",
       "      <td>26.90</td>\n",
       "    </tr>\n",
       "    <tr>\n",
       "      <th>3</th>\n",
       "      <td>Manager</td>\n",
       "      <td>26.47</td>\n",
       "    </tr>\n",
       "    <tr>\n",
       "      <th>1</th>\n",
       "      <td>Human Resources</td>\n",
       "      <td>25.00</td>\n",
       "    </tr>\n",
       "    <tr>\n",
       "      <th>2</th>\n",
       "      <td>Laboratory Technician</td>\n",
       "      <td>23.94</td>\n",
       "    </tr>\n",
       "  </tbody>\n",
       "</table>\n",
       "</div>"
      ],
      "text/plain": [
       "                     JobRole  % of OverTime\n",
       "6         Research Scientist          33.22\n",
       "8       Sales Representative          28.92\n",
       "7            Sales Executive          28.83\n",
       "5          Research Director          28.75\n",
       "0  Healthcare Representative          28.24\n",
       "4     Manufacturing Director          26.90\n",
       "3                    Manager          26.47\n",
       "1            Human Resources          25.00\n",
       "2      Laboratory Technician          23.94"
      ]
     },
     "execution_count": 71,
     "metadata": {},
     "output_type": "execute_result"
    }
   ],
   "source": [
    "role_overtime.sort_values(by='% of OverTime', ascending=False)[['JobRole', '% of OverTime']]"
   ]
  },
  {
   "cell_type": "markdown",
   "id": "eac6b2ba",
   "metadata": {},
   "source": [
    "## Attrition Drivers"
   ]
  },
  {
   "cell_type": "markdown",
   "id": "e75b3c31",
   "metadata": {},
   "source": [
    "### Do employees with low job satisfaction leave more often than those with high satisfaction?"
   ]
  },
  {
   "cell_type": "code",
   "execution_count": 72,
   "id": "8ac8742b",
   "metadata": {},
   "outputs": [
    {
     "data": {
      "text/html": [
       "<div>\n",
       "<style scoped>\n",
       "    .dataframe tbody tr th:only-of-type {\n",
       "        vertical-align: middle;\n",
       "    }\n",
       "\n",
       "    .dataframe tbody tr th {\n",
       "        vertical-align: top;\n",
       "    }\n",
       "\n",
       "    .dataframe thead th {\n",
       "        text-align: right;\n",
       "    }\n",
       "</style>\n",
       "<table border=\"1\" class=\"dataframe\">\n",
       "  <thead>\n",
       "    <tr style=\"text-align: right;\">\n",
       "      <th></th>\n",
       "      <th>JobSatisfactionCode</th>\n",
       "      <th>JobSatisfactionType</th>\n",
       "    </tr>\n",
       "  </thead>\n",
       "  <tbody>\n",
       "    <tr>\n",
       "      <th>0</th>\n",
       "      <td>1</td>\n",
       "      <td>Low</td>\n",
       "    </tr>\n",
       "    <tr>\n",
       "      <th>1</th>\n",
       "      <td>2</td>\n",
       "      <td>Medium</td>\n",
       "    </tr>\n",
       "    <tr>\n",
       "      <th>2</th>\n",
       "      <td>3</td>\n",
       "      <td>High</td>\n",
       "    </tr>\n",
       "    <tr>\n",
       "      <th>3</th>\n",
       "      <td>4</td>\n",
       "      <td>Very High</td>\n",
       "    </tr>\n",
       "  </tbody>\n",
       "</table>\n",
       "</div>"
      ],
      "text/plain": [
       "   JobSatisfactionCode JobSatisfactionType\n",
       "0                    1                 Low\n",
       "1                    2              Medium\n",
       "2                    3                High\n",
       "3                    4           Very High"
      ]
     },
     "execution_count": 72,
     "metadata": {},
     "output_type": "execute_result"
    }
   ],
   "source": [
    "job_satisfaction_df"
   ]
  },
  {
   "cell_type": "code",
   "execution_count": 73,
   "id": "31905345",
   "metadata": {},
   "outputs": [],
   "source": [
    "jobsatisfaction =  df.groupby('JobSatisfaction').size().reset_index(name='Count')"
   ]
  },
  {
   "cell_type": "code",
   "execution_count": 74,
   "id": "c9a0b863",
   "metadata": {},
   "outputs": [],
   "source": [
    "attrition_jobsatisfaction = df[df['Attrition']=='Yes'].groupby('JobSatisfaction').size().reset_index(name='Attrition Count')"
   ]
  },
  {
   "cell_type": "code",
   "execution_count": 75,
   "id": "8b494ebd",
   "metadata": {},
   "outputs": [],
   "source": [
    "full_jobsatisfaction = jobsatisfaction.merge(attrition_jobsatisfaction, on='JobSatisfaction')"
   ]
  },
  {
   "cell_type": "code",
   "execution_count": 76,
   "id": "9552bd30",
   "metadata": {},
   "outputs": [],
   "source": [
    "full_jobsatisfaction['% of Attrition'] = np.round(full_jobsatisfaction['Attrition Count'] / full_jobsatisfaction['Count'] * 100, 2)"
   ]
  },
  {
   "cell_type": "code",
   "execution_count": 77,
   "id": "61b99d53",
   "metadata": {},
   "outputs": [
    {
     "data": {
      "text/html": [
       "<div>\n",
       "<style scoped>\n",
       "    .dataframe tbody tr th:only-of-type {\n",
       "        vertical-align: middle;\n",
       "    }\n",
       "\n",
       "    .dataframe tbody tr th {\n",
       "        vertical-align: top;\n",
       "    }\n",
       "\n",
       "    .dataframe thead th {\n",
       "        text-align: right;\n",
       "    }\n",
       "</style>\n",
       "<table border=\"1\" class=\"dataframe\">\n",
       "  <thead>\n",
       "    <tr style=\"text-align: right;\">\n",
       "      <th></th>\n",
       "      <th>JobSatisfactionType</th>\n",
       "      <th>Count</th>\n",
       "      <th>Attrition Count</th>\n",
       "      <th>% of Attrition</th>\n",
       "    </tr>\n",
       "  </thead>\n",
       "  <tbody>\n",
       "    <tr>\n",
       "      <th>0</th>\n",
       "      <td>Low</td>\n",
       "      <td>289</td>\n",
       "      <td>66</td>\n",
       "      <td>22.84</td>\n",
       "    </tr>\n",
       "    <tr>\n",
       "      <th>1</th>\n",
       "      <td>Medium</td>\n",
       "      <td>280</td>\n",
       "      <td>46</td>\n",
       "      <td>16.43</td>\n",
       "    </tr>\n",
       "    <tr>\n",
       "      <th>2</th>\n",
       "      <td>High</td>\n",
       "      <td>442</td>\n",
       "      <td>73</td>\n",
       "      <td>16.52</td>\n",
       "    </tr>\n",
       "    <tr>\n",
       "      <th>3</th>\n",
       "      <td>Very High</td>\n",
       "      <td>459</td>\n",
       "      <td>52</td>\n",
       "      <td>11.33</td>\n",
       "    </tr>\n",
       "  </tbody>\n",
       "</table>\n",
       "</div>"
      ],
      "text/plain": [
       "  JobSatisfactionType  Count  Attrition Count  % of Attrition\n",
       "0                 Low    289               66           22.84\n",
       "1              Medium    280               46           16.43\n",
       "2                High    442               73           16.52\n",
       "3           Very High    459               52           11.33"
      ]
     },
     "execution_count": 77,
     "metadata": {},
     "output_type": "execute_result"
    }
   ],
   "source": [
    "full_jobsatisfaction.merge(job_satisfaction_df, left_on = 'JobSatisfaction', right_on='JobSatisfactionCode')[['JobSatisfactionType', 'Count', 'Attrition Count', '% of Attrition']]"
   ]
  },
  {
   "cell_type": "markdown",
   "id": "bfa2bb8d",
   "metadata": {},
   "source": [
    "#### Employees who have low job satisfaction have higher attrition rate compared to other groups."
   ]
  },
  {
   "cell_type": "markdown",
   "id": "3d464e41",
   "metadata": {},
   "source": [
    "## Does JobSatisfaction significantly differ across Departments?(ANOVA test)\n",
    "\n",
    "α = 0.05\n",
    "\n",
    "H₀: Mean JobSatisfaction is the same across all departments.\n",
    "\n",
    "H₁: At least one department has a different mean JobSatisfaction."
   ]
  },
  {
   "cell_type": "code",
   "execution_count": 140,
   "id": "5290f1e6",
   "metadata": {},
   "outputs": [],
   "source": [
    "sales = df[df['Department']=='Sales']['JobSatisfaction']\n",
    "rnd = df[df['Department']=='Research & Development']['JobSatisfaction']\n",
    "hr = df[df['Department']=='Human Resources']['JobSatisfaction']"
   ]
  },
  {
   "cell_type": "code",
   "execution_count": 141,
   "id": "c452f9a3",
   "metadata": {},
   "outputs": [
    {
     "name": "stdout",
     "output_type": "stream",
     "text": [
      "F-statistic: 0.5021228767277305\n",
      "p-value: 0.6053484180286459\n"
     ]
    }
   ],
   "source": [
    "f_stat, p_value = stats.f_oneway(sales, rnd, hr)\n",
    "print(\"F-statistic:\", f_stat)\n",
    "print(\"p-value:\", p_value)"
   ]
  },
  {
   "cell_type": "markdown",
   "id": "8a1bebf6",
   "metadata": {},
   "source": [
    "#### ANOVA shows that job satisfaction does not differ significantly across departments (p = 0.6). This suggests that dissatisfaction is not department-specific, and retention efforts should focus on factors that affect all employees, such as workload or work-life balance."
   ]
  },
  {
   "cell_type": "markdown",
   "id": "e743e409",
   "metadata": {},
   "source": [
    "### Is overtime a major contributor to attrition?"
   ]
  },
  {
   "cell_type": "code",
   "execution_count": 78,
   "id": "c6875362",
   "metadata": {},
   "outputs": [],
   "source": [
    "overtime_attrition = df[df['Attrition']=='Yes'][['Attrition', 'OverTime']]"
   ]
  },
  {
   "cell_type": "code",
   "execution_count": 79,
   "id": "b36d0bd9",
   "metadata": {},
   "outputs": [],
   "source": [
    "overtime_attrition = overtime_attrition.groupby('OverTime').size().reset_index(name='Attrition Count')"
   ]
  },
  {
   "cell_type": "code",
   "execution_count": 80,
   "id": "e88ae51d",
   "metadata": {},
   "outputs": [
    {
     "data": {
      "text/html": [
       "<div>\n",
       "<style scoped>\n",
       "    .dataframe tbody tr th:only-of-type {\n",
       "        vertical-align: middle;\n",
       "    }\n",
       "\n",
       "    .dataframe tbody tr th {\n",
       "        vertical-align: top;\n",
       "    }\n",
       "\n",
       "    .dataframe thead th {\n",
       "        text-align: right;\n",
       "    }\n",
       "</style>\n",
       "<table border=\"1\" class=\"dataframe\">\n",
       "  <thead>\n",
       "    <tr style=\"text-align: right;\">\n",
       "      <th></th>\n",
       "      <th>OverTime</th>\n",
       "      <th>Attrition Count</th>\n",
       "    </tr>\n",
       "  </thead>\n",
       "  <tbody>\n",
       "    <tr>\n",
       "      <th>0</th>\n",
       "      <td>No</td>\n",
       "      <td>110</td>\n",
       "    </tr>\n",
       "    <tr>\n",
       "      <th>1</th>\n",
       "      <td>Yes</td>\n",
       "      <td>127</td>\n",
       "    </tr>\n",
       "  </tbody>\n",
       "</table>\n",
       "</div>"
      ],
      "text/plain": [
       "  OverTime  Attrition Count\n",
       "0       No              110\n",
       "1      Yes              127"
      ]
     },
     "execution_count": 80,
     "metadata": {},
     "output_type": "execute_result"
    }
   ],
   "source": [
    "overtime_attrition"
   ]
  },
  {
   "cell_type": "markdown",
   "id": "8a064216",
   "metadata": {},
   "source": [
    "### Chi square test to check whether Attrition depends on Overtime\n",
    "α = 0.05\n",
    "\n",
    "H₀: Attrition is independent of overtime (no relationship).\n",
    "\n",
    "H₁: Attrition depends on overtime (relationship exists)."
   ]
  },
  {
   "cell_type": "code",
   "execution_count": 81,
   "id": "bdf9f530",
   "metadata": {},
   "outputs": [],
   "source": [
    "total_attritions = np.sum(overtime_attrition['Attrition Count'], axis=0)"
   ]
  },
  {
   "cell_type": "code",
   "execution_count": 82,
   "id": "a2d82faa",
   "metadata": {},
   "outputs": [
    {
     "data": {
      "text/plain": [
       "237"
      ]
     },
     "execution_count": 82,
     "metadata": {},
     "output_type": "execute_result"
    }
   ],
   "source": [
    "total_attritions"
   ]
  },
  {
   "cell_type": "code",
   "execution_count": 83,
   "id": "82ae612c",
   "metadata": {},
   "outputs": [],
   "source": [
    "overtime_attrition['Expected'] = total_attritions / 2"
   ]
  },
  {
   "cell_type": "code",
   "execution_count": 84,
   "id": "c6f980f3",
   "metadata": {},
   "outputs": [
    {
     "data": {
      "text/html": [
       "<div>\n",
       "<style scoped>\n",
       "    .dataframe tbody tr th:only-of-type {\n",
       "        vertical-align: middle;\n",
       "    }\n",
       "\n",
       "    .dataframe tbody tr th {\n",
       "        vertical-align: top;\n",
       "    }\n",
       "\n",
       "    .dataframe thead th {\n",
       "        text-align: right;\n",
       "    }\n",
       "</style>\n",
       "<table border=\"1\" class=\"dataframe\">\n",
       "  <thead>\n",
       "    <tr style=\"text-align: right;\">\n",
       "      <th></th>\n",
       "      <th>OverTime</th>\n",
       "      <th>Attrition Count</th>\n",
       "      <th>Expected</th>\n",
       "    </tr>\n",
       "  </thead>\n",
       "  <tbody>\n",
       "    <tr>\n",
       "      <th>0</th>\n",
       "      <td>No</td>\n",
       "      <td>110</td>\n",
       "      <td>118.5</td>\n",
       "    </tr>\n",
       "    <tr>\n",
       "      <th>1</th>\n",
       "      <td>Yes</td>\n",
       "      <td>127</td>\n",
       "      <td>118.5</td>\n",
       "    </tr>\n",
       "  </tbody>\n",
       "</table>\n",
       "</div>"
      ],
      "text/plain": [
       "  OverTime  Attrition Count  Expected\n",
       "0       No              110     118.5\n",
       "1      Yes              127     118.5"
      ]
     },
     "execution_count": 84,
     "metadata": {},
     "output_type": "execute_result"
    }
   ],
   "source": [
    "overtime_attrition"
   ]
  },
  {
   "cell_type": "code",
   "execution_count": 85,
   "id": "e192e419",
   "metadata": {},
   "outputs": [
    {
     "data": {
      "text/plain": [
       "Power_divergenceResult(statistic=1.219409282700422, pvalue=0.26947661167475284)"
      ]
     },
     "execution_count": 85,
     "metadata": {},
     "output_type": "execute_result"
    }
   ],
   "source": [
    "stats.chisquare(f_obs = overtime_attrition['Attrition Count'], f_exp = overtime_attrition['Expected'])"
   ]
  },
  {
   "cell_type": "markdown",
   "id": "c5950704",
   "metadata": {},
   "source": [
    "#### Since the p-value is greater than the significance level α, we fail to reject the null hypothesis. This suggests that there is no statistically significant association between overtime and attrition."
   ]
  },
  {
   "cell_type": "markdown",
   "id": "c53cfb0a",
   "metadata": {},
   "source": [
    "## Career Growth & Tenure"
   ]
  },
  {
   "cell_type": "markdown",
   "id": "5dc587cb",
   "metadata": {},
   "source": [
    "### Are employees with fewer promotions in their tenure more likely to leave?\n"
   ]
  },
  {
   "cell_type": "code",
   "execution_count": 86,
   "id": "b6d9081a",
   "metadata": {},
   "outputs": [],
   "source": [
    "salary_hike_bins = [10, 15, 20, 25]\n",
    "salary_hike_labels = ['10-15', '15-20', '20-25']\n",
    "df['SalaryHikeGroup'] = pd.cut(df['PercentSalaryHike'], bins = salary_hike_bins, labels = salary_hike_labels)"
   ]
  },
  {
   "cell_type": "code",
   "execution_count": 182,
   "id": "a802d0e4",
   "metadata": {},
   "outputs": [],
   "source": [
    "full_df_salary_hike = df.groupby('SalaryHikeGroup', observed=False).size().reset_index(name = 'Count')"
   ]
  },
  {
   "cell_type": "code",
   "execution_count": 183,
   "id": "8a438fb0",
   "metadata": {},
   "outputs": [],
   "source": [
    "attrition_salary_hike = df[df['Attrition']=='Yes'].groupby('SalaryHikeGroup', observed=False).size().reset_index(name = 'Attrition Count')"
   ]
  },
  {
   "cell_type": "code",
   "execution_count": 89,
   "id": "b3863b11",
   "metadata": {},
   "outputs": [],
   "source": [
    "result_salary_hike = full_df_salary_hike.merge(attrition_salary_hike, on='SalaryHikeGroup')"
   ]
  },
  {
   "cell_type": "code",
   "execution_count": 90,
   "id": "d77b2f11",
   "metadata": {},
   "outputs": [],
   "source": [
    "result_salary_hike['% of Attrition'] = np.round(result_salary_hike['Attrition Count'] / result_salary_hike['Count'] * 100, 2)"
   ]
  },
  {
   "cell_type": "code",
   "execution_count": 91,
   "id": "9cf4fef5",
   "metadata": {},
   "outputs": [
    {
     "data": {
      "text/html": [
       "<div>\n",
       "<style scoped>\n",
       "    .dataframe tbody tr th:only-of-type {\n",
       "        vertical-align: middle;\n",
       "    }\n",
       "\n",
       "    .dataframe tbody tr th {\n",
       "        vertical-align: top;\n",
       "    }\n",
       "\n",
       "    .dataframe thead th {\n",
       "        text-align: right;\n",
       "    }\n",
       "</style>\n",
       "<table border=\"1\" class=\"dataframe\">\n",
       "  <thead>\n",
       "    <tr style=\"text-align: right;\">\n",
       "      <th></th>\n",
       "      <th>SalaryHikeGroup</th>\n",
       "      <th>Count</th>\n",
       "      <th>Attrition Count</th>\n",
       "      <th>% of Attrition</th>\n",
       "    </tr>\n",
       "  </thead>\n",
       "  <tbody>\n",
       "    <tr>\n",
       "      <th>0</th>\n",
       "      <td>10-15</td>\n",
       "      <td>919</td>\n",
       "      <td>150</td>\n",
       "      <td>16.32</td>\n",
       "    </tr>\n",
       "    <tr>\n",
       "      <th>1</th>\n",
       "      <td>15-20</td>\n",
       "      <td>380</td>\n",
       "      <td>57</td>\n",
       "      <td>15.00</td>\n",
       "    </tr>\n",
       "    <tr>\n",
       "      <th>2</th>\n",
       "      <td>20-25</td>\n",
       "      <td>171</td>\n",
       "      <td>30</td>\n",
       "      <td>17.54</td>\n",
       "    </tr>\n",
       "  </tbody>\n",
       "</table>\n",
       "</div>"
      ],
      "text/plain": [
       "  SalaryHikeGroup  Count  Attrition Count  % of Attrition\n",
       "0           10-15    919              150           16.32\n",
       "1           15-20    380               57           15.00\n",
       "2           20-25    171               30           17.54"
      ]
     },
     "execution_count": 91,
     "metadata": {},
     "output_type": "execute_result"
    }
   ],
   "source": [
    "result_salary_hike"
   ]
  },
  {
   "cell_type": "markdown",
   "id": "a503f82e",
   "metadata": {},
   "source": [
    "#### No, salary hikes do not have a significant effect on attrition rate."
   ]
  },
  {
   "cell_type": "markdown",
   "id": "64a6e7df",
   "metadata": {},
   "source": [
    "### Does attrition peak at certain tenure levels (e.g., after 1 year, after 5 years)?"
   ]
  },
  {
   "cell_type": "code",
   "execution_count": 92,
   "id": "e9193561",
   "metadata": {},
   "outputs": [
    {
     "data": {
      "text/plain": [
       "40"
      ]
     },
     "execution_count": 92,
     "metadata": {},
     "output_type": "execute_result"
    }
   ],
   "source": [
    "df[df['Attrition']=='Yes']['YearsAtCompany'].max()"
   ]
  },
  {
   "cell_type": "code",
   "execution_count": 93,
   "id": "e8494255",
   "metadata": {},
   "outputs": [
    {
     "data": {
      "image/png": "[encoded data removed]",
      "text/plain": [
       "<Figure size 1000x600 with 1 Axes>"
      ]
     },
     "metadata": {},
     "output_type": "display_data"
    }
   ],
   "source": [
    "plt.figure(figsize=(10, 6))\n",
    "\n",
    "sns.histplot(df[df['Attrition']=='Yes']['YearsAtCompany'], bins=40)\n",
    "\n",
    "plt.xlabel(\"Years at Company\", fontsize = 12)\n",
    "plt.ylabel(\"Number of Employees (Attrition)\", fontsize = 12)\n",
    "plt.title(\"Distribution of Years at Company (Attrition = Yes)\", fontsize = 14, weight = 'bold')\n",
    "plt.tight_layout()"
   ]
  },
  {
   "cell_type": "markdown",
   "id": "4e0a487c",
   "metadata": {},
   "source": [
    "#### The highest spike is in year 1–2, meaning many employees leave very soon after joining. After around ~5 years, the frequency of attrition drops steadily. While a few attritions occur after 15–20+ years, they are very uncommon."
   ]
  },
  {
   "cell_type": "markdown",
   "id": "0db0a7dd",
   "metadata": {},
   "source": [
    "## Compensation & Fairness"
   ]
  },
  {
   "cell_type": "markdown",
   "id": "2806604a",
   "metadata": {},
   "source": [
    "### Do lower-paid employees leave at higher rates?"
   ]
  },
  {
   "cell_type": "code",
   "execution_count": 156,
   "id": "b9fde7c0",
   "metadata": {},
   "outputs": [
    {
     "data": {
      "text/plain": [
       "4787.09"
      ]
     },
     "execution_count": 156,
     "metadata": {},
     "output_type": "execute_result"
    }
   ],
   "source": [
    "df[df['Attrition']=='Yes']['MonthlyIncome'].mean().round(2)"
   ]
  },
  {
   "cell_type": "code",
   "execution_count": 157,
   "id": "4c57a71f",
   "metadata": {},
   "outputs": [
    {
     "data": {
      "text/plain": [
       "6832.74"
      ]
     },
     "execution_count": 157,
     "metadata": {},
     "output_type": "execute_result"
    }
   ],
   "source": [
    "df[df['Attrition']=='No']['MonthlyIncome'].mean().round(2)"
   ]
  },
  {
   "cell_type": "code",
   "execution_count": 153,
   "id": "cfa5fe49",
   "metadata": {},
   "outputs": [
    {
     "data": {
      "image/png": "[encoded data removed]",
      "text/plain": [
       "<Figure size 600x500 with 1 Axes>"
      ]
     },
     "metadata": {},
     "output_type": "display_data"
    }
   ],
   "source": [
    "plt.figure(figsize=(6,5))\n",
    "sns.boxplot(x=\"Attrition\", y=\"MonthlyIncome\", data=df)\n",
    "\n",
    "plt.title(\"Monthly Income by Attrition Status\", fontsize = 12, weight = 'bold')\n",
    "plt.xlabel('Attiriton', fontsize = 10)\n",
    "plt.ylabel('Monthly Income', fontsize = 10)\n",
    "\n",
    "plt.tight_layout()"
   ]
  },
  {
   "cell_type": "code",
   "execution_count": 94,
   "id": "899a3a05",
   "metadata": {},
   "outputs": [],
   "source": [
    "income_bins = [0, 2500, 5000, 10000, 20000]\n",
    "income_labels = ['0-2500', '2500-5000', '5000-10000', '10000-20000']\n",
    "df['MonthlyIncomeGroup'] = pd.cut(df['MonthlyIncome'], bins=income_bins, labels=income_labels)"
   ]
  },
  {
   "cell_type": "code",
   "execution_count": 184,
   "id": "fa8d78fa",
   "metadata": {},
   "outputs": [],
   "source": [
    "all_income_groups = df.groupby('MonthlyIncomeGroup', observed=False).size().reset_index(name='Count')"
   ]
  },
  {
   "cell_type": "code",
   "execution_count": 185,
   "id": "0e5ae6be",
   "metadata": {},
   "outputs": [],
   "source": [
    "attrition_income_groups = df[df['Attrition']=='Yes'].groupby('MonthlyIncomeGroup', observed=False).size().reset_index(name='Attrition Count')"
   ]
  },
  {
   "cell_type": "code",
   "execution_count": 97,
   "id": "dd28b4a9",
   "metadata": {},
   "outputs": [],
   "source": [
    "income_results = all_income_groups.merge(attrition_income_groups, on='MonthlyIncomeGroup')"
   ]
  },
  {
   "cell_type": "code",
   "execution_count": 98,
   "id": "e4dc3a1f",
   "metadata": {},
   "outputs": [],
   "source": [
    "income_results['% of Attrition'] = np.round(income_results['Attrition Count'] / income_results['Count'] * 100, 2)"
   ]
  },
  {
   "cell_type": "code",
   "execution_count": 99,
   "id": "c4a18368",
   "metadata": {},
   "outputs": [
    {
     "data": {
      "text/html": [
       "<div>\n",
       "<style scoped>\n",
       "    .dataframe tbody tr th:only-of-type {\n",
       "        vertical-align: middle;\n",
       "    }\n",
       "\n",
       "    .dataframe tbody tr th {\n",
       "        vertical-align: top;\n",
       "    }\n",
       "\n",
       "    .dataframe thead th {\n",
       "        text-align: right;\n",
       "    }\n",
       "</style>\n",
       "<table border=\"1\" class=\"dataframe\">\n",
       "  <thead>\n",
       "    <tr style=\"text-align: right;\">\n",
       "      <th></th>\n",
       "      <th>MonthlyIncomeGroup</th>\n",
       "      <th>Count</th>\n",
       "      <th>Attrition Count</th>\n",
       "      <th>% of Attrition</th>\n",
       "    </tr>\n",
       "  </thead>\n",
       "  <tbody>\n",
       "    <tr>\n",
       "      <th>0</th>\n",
       "      <td>0-2500</td>\n",
       "      <td>226</td>\n",
       "      <td>77</td>\n",
       "      <td>34.07</td>\n",
       "    </tr>\n",
       "    <tr>\n",
       "      <th>1</th>\n",
       "      <td>2500-5000</td>\n",
       "      <td>523</td>\n",
       "      <td>86</td>\n",
       "      <td>16.44</td>\n",
       "    </tr>\n",
       "    <tr>\n",
       "      <th>2</th>\n",
       "      <td>5000-10000</td>\n",
       "      <td>440</td>\n",
       "      <td>49</td>\n",
       "      <td>11.14</td>\n",
       "    </tr>\n",
       "    <tr>\n",
       "      <th>3</th>\n",
       "      <td>10000-20000</td>\n",
       "      <td>281</td>\n",
       "      <td>25</td>\n",
       "      <td>8.90</td>\n",
       "    </tr>\n",
       "  </tbody>\n",
       "</table>\n",
       "</div>"
      ],
      "text/plain": [
       "  MonthlyIncomeGroup  Count  Attrition Count  % of Attrition\n",
       "0             0-2500    226               77           34.07\n",
       "1          2500-5000    523               86           16.44\n",
       "2         5000-10000    440               49           11.14\n",
       "3        10000-20000    281               25            8.90"
      ]
     },
     "execution_count": 99,
     "metadata": {},
     "output_type": "execute_result"
    }
   ],
   "source": [
    "income_results"
   ]
  },
  {
   "cell_type": "code",
   "execution_count": 100,
   "id": "dad8dc39",
   "metadata": {},
   "outputs": [
    {
     "data": {
      "image/png": "[encoded data removed]",
      "text/plain": [
       "<Figure size 1000x600 with 1 Axes>"
      ]
     },
     "metadata": {},
     "output_type": "display_data"
    }
   ],
   "source": [
    "plt.figure(figsize=(10, 6))\n",
    "\n",
    "sns.barplot(income_results, x='MonthlyIncomeGroup', y='% of Attrition')\n",
    "\n",
    "plt.title('% of Attrition by Monthly Income', fontsize = 14, weight = 'bold')\n",
    "plt.xlabel('Monthly Income', fontsize = 12)\n",
    "plt.ylabel('% of Attrition', fontsize = 12)\n",
    "plt.tight_layout()"
   ]
  },
  {
   "cell_type": "markdown",
   "id": "bc882781",
   "metadata": {},
   "source": [
    "#### On average, employees who left earned 4,787$, compared to 6,833$ for those who stayed. The chart shows that salary has a strong impact on attrition: 34.1% of employees earning 0–2,500 leave the company, while attrition steadily decreases with higher salaries, reaching only 8.9% in the 10,000–20,000 range. To test whether this difference in income between employees who left and those who stayed is statistically significant, I will perform a Two-Sample t-Test."
   ]
  },
  {
   "cell_type": "markdown",
   "id": "28df957e",
   "metadata": {},
   "source": [
    "### Two-Sample t-Test: Attrition vs. Monthly Income\n",
    "\n",
    "α = 0.05\n",
    "\n",
    "H₀: There is no difference in MonthlyIncome between leavers and stayers.\n",
    "\n",
    "H₁: There is a difference in MonthlyIncome between leavers and stayers.\n"
   ]
  },
  {
   "cell_type": "code",
   "execution_count": 101,
   "id": "f15d6f05",
   "metadata": {},
   "outputs": [],
   "source": [
    "left = df[df['Attrition']==\"Yes\"]['MonthlyIncome']\n",
    "stayed = df[df['Attrition']==\"No\"]['MonthlyIncome']"
   ]
  },
  {
   "cell_type": "code",
   "execution_count": 102,
   "id": "2a0bec38",
   "metadata": {},
   "outputs": [],
   "source": [
    "t_stat, p_value = stats.ttest_ind(a=left,\n",
    "                b=stayed,\n",
    "                equal_var=False)"
   ]
  },
  {
   "cell_type": "code",
   "execution_count": 103,
   "id": "21cdac47",
   "metadata": {},
   "outputs": [
    {
     "data": {
      "text/plain": [
       "4e-13"
      ]
     },
     "execution_count": 103,
     "metadata": {},
     "output_type": "execute_result"
    }
   ],
   "source": [
    "np.round(p_value, 13)"
   ]
  },
  {
   "cell_type": "markdown",
   "id": "7ff161d3",
   "metadata": {},
   "source": [
    "#### A p-value of 4e-13 strongly rejects H₀ — there is a statistically significant difference in mean MonthlyIncome between leavers and stayers."
   ]
  },
  {
   "cell_type": "markdown",
   "id": "2993cf86",
   "metadata": {},
   "source": [
    "### Is attrition higher among employees who earn less than the departmental average?"
   ]
  },
  {
   "cell_type": "code",
   "execution_count": 104,
   "id": "51211477",
   "metadata": {},
   "outputs": [],
   "source": [
    "department_avg_income = df.groupby('Department')[\"MonthlyIncome\"].mean().round(2).reset_index(name='DeptAvgIncome')"
   ]
  },
  {
   "cell_type": "code",
   "execution_count": 105,
   "id": "3ee493a2",
   "metadata": {},
   "outputs": [],
   "source": [
    "attrition_deptavg = df.merge(department_avg_income, how='left', on='Department')[['Attrition', 'MonthlyIncome', 'Department', 'DeptAvgIncome']]"
   ]
  },
  {
   "cell_type": "code",
   "execution_count": 106,
   "id": "ab47e515",
   "metadata": {},
   "outputs": [
    {
     "data": {
      "text/html": [
       "<div>\n",
       "<style scoped>\n",
       "    .dataframe tbody tr th:only-of-type {\n",
       "        vertical-align: middle;\n",
       "    }\n",
       "\n",
       "    .dataframe tbody tr th {\n",
       "        vertical-align: top;\n",
       "    }\n",
       "\n",
       "    .dataframe thead th {\n",
       "        text-align: right;\n",
       "    }\n",
       "</style>\n",
       "<table border=\"1\" class=\"dataframe\">\n",
       "  <thead>\n",
       "    <tr style=\"text-align: right;\">\n",
       "      <th></th>\n",
       "      <th>Attrition</th>\n",
       "      <th>MonthlyIncome</th>\n",
       "      <th>Department</th>\n",
       "      <th>DeptAvgIncome</th>\n",
       "    </tr>\n",
       "  </thead>\n",
       "  <tbody>\n",
       "    <tr>\n",
       "      <th>0</th>\n",
       "      <td>Yes</td>\n",
       "      <td>5993</td>\n",
       "      <td>Sales</td>\n",
       "      <td>6959.17</td>\n",
       "    </tr>\n",
       "    <tr>\n",
       "      <th>1</th>\n",
       "      <td>No</td>\n",
       "      <td>5130</td>\n",
       "      <td>Research &amp; Development</td>\n",
       "      <td>6281.25</td>\n",
       "    </tr>\n",
       "    <tr>\n",
       "      <th>2</th>\n",
       "      <td>Yes</td>\n",
       "      <td>2090</td>\n",
       "      <td>Research &amp; Development</td>\n",
       "      <td>6281.25</td>\n",
       "    </tr>\n",
       "    <tr>\n",
       "      <th>3</th>\n",
       "      <td>No</td>\n",
       "      <td>2909</td>\n",
       "      <td>Research &amp; Development</td>\n",
       "      <td>6281.25</td>\n",
       "    </tr>\n",
       "    <tr>\n",
       "      <th>4</th>\n",
       "      <td>No</td>\n",
       "      <td>3468</td>\n",
       "      <td>Research &amp; Development</td>\n",
       "      <td>6281.25</td>\n",
       "    </tr>\n",
       "  </tbody>\n",
       "</table>\n",
       "</div>"
      ],
      "text/plain": [
       "  Attrition  MonthlyIncome              Department  DeptAvgIncome\n",
       "0       Yes           5993                   Sales        6959.17\n",
       "1        No           5130  Research & Development        6281.25\n",
       "2       Yes           2090  Research & Development        6281.25\n",
       "3        No           2909  Research & Development        6281.25\n",
       "4        No           3468  Research & Development        6281.25"
      ]
     },
     "execution_count": 106,
     "metadata": {},
     "output_type": "execute_result"
    }
   ],
   "source": [
    "attrition_deptavg.head(5)"
   ]
  },
  {
   "cell_type": "code",
   "execution_count": 107,
   "id": "0316f001",
   "metadata": {},
   "outputs": [],
   "source": [
    "num_low_income_attrition = len(attrition_deptavg[(attrition_deptavg['Attrition']=='Yes')&(attrition_deptavg['MonthlyIncome']<attrition_deptavg['DeptAvgIncome'])])"
   ]
  },
  {
   "cell_type": "code",
   "execution_count": 108,
   "id": "78693ca2",
   "metadata": {},
   "outputs": [],
   "source": [
    "num_attrition = len(attrition_deptavg[attrition_deptavg['Attrition']=='Yes'])"
   ]
  },
  {
   "cell_type": "code",
   "execution_count": 109,
   "id": "5f9b3938",
   "metadata": {},
   "outputs": [
    {
     "data": {
      "text/plain": [
       "79.75"
      ]
     },
     "execution_count": 109,
     "metadata": {},
     "output_type": "execute_result"
    }
   ],
   "source": [
    "np.round(num_low_income_attrition / num_attrition*100, 2)"
   ]
  },
  {
   "cell_type": "markdown",
   "id": "0c6a0ee1",
   "metadata": {},
   "source": [
    "#### Almost 80% of attrition comes from employees earning below their department’s average, suggesting that being underpaid relative to peers may increase the likelihood of leaving."
   ]
  },
  {
   "cell_type": "markdown",
   "id": "f4e8f78d",
   "metadata": {},
   "source": [
    "## Department/Role Differences"
   ]
  },
  {
   "cell_type": "markdown",
   "id": "328e46a5",
   "metadata": {},
   "source": [
    "### Which departments or job roles have the highest attrition rates?"
   ]
  },
  {
   "cell_type": "markdown",
   "id": "2ee0893c",
   "metadata": {},
   "source": [
    "#### Department"
   ]
  },
  {
   "cell_type": "code",
   "execution_count": 110,
   "id": "91f939c6",
   "metadata": {},
   "outputs": [],
   "source": [
    "department_attrition = (\n",
    "    df.groupby(['Department', 'Attrition'])\n",
    "    .size()\n",
    "    .reset_index(name = 'Count')\n",
    "    .pivot(index='Department', columns = 'Attrition', values='Count')\n",
    "    .fillna(0)\n",
    "    .reset_index()\n",
    ")"
   ]
  },
  {
   "cell_type": "code",
   "execution_count": 111,
   "id": "077ef855",
   "metadata": {},
   "outputs": [],
   "source": [
    "department_attrition.columns.name = None"
   ]
  },
  {
   "cell_type": "code",
   "execution_count": 112,
   "id": "352bc1f0",
   "metadata": {},
   "outputs": [],
   "source": [
    "department_attrition['Total'] = department_attrition['No'] + department_attrition['Yes']"
   ]
  },
  {
   "cell_type": "code",
   "execution_count": 113,
   "id": "394f2659",
   "metadata": {},
   "outputs": [],
   "source": [
    "department_attrition['% of Attrition'] = np.round(department_attrition['Yes'] / department_attrition['Total'] * 100, 2)"
   ]
  },
  {
   "cell_type": "code",
   "execution_count": 114,
   "id": "3fd86b25",
   "metadata": {},
   "outputs": [
    {
     "data": {
      "text/html": [
       "<div>\n",
       "<style scoped>\n",
       "    .dataframe tbody tr th:only-of-type {\n",
       "        vertical-align: middle;\n",
       "    }\n",
       "\n",
       "    .dataframe tbody tr th {\n",
       "        vertical-align: top;\n",
       "    }\n",
       "\n",
       "    .dataframe thead th {\n",
       "        text-align: right;\n",
       "    }\n",
       "</style>\n",
       "<table border=\"1\" class=\"dataframe\">\n",
       "  <thead>\n",
       "    <tr style=\"text-align: right;\">\n",
       "      <th></th>\n",
       "      <th>Department</th>\n",
       "      <th>No</th>\n",
       "      <th>Yes</th>\n",
       "      <th>Total</th>\n",
       "      <th>% of Attrition</th>\n",
       "    </tr>\n",
       "  </thead>\n",
       "  <tbody>\n",
       "    <tr>\n",
       "      <th>0</th>\n",
       "      <td>Human Resources</td>\n",
       "      <td>51</td>\n",
       "      <td>12</td>\n",
       "      <td>63</td>\n",
       "      <td>19.05</td>\n",
       "    </tr>\n",
       "    <tr>\n",
       "      <th>1</th>\n",
       "      <td>Research &amp; Development</td>\n",
       "      <td>828</td>\n",
       "      <td>133</td>\n",
       "      <td>961</td>\n",
       "      <td>13.84</td>\n",
       "    </tr>\n",
       "    <tr>\n",
       "      <th>2</th>\n",
       "      <td>Sales</td>\n",
       "      <td>354</td>\n",
       "      <td>92</td>\n",
       "      <td>446</td>\n",
       "      <td>20.63</td>\n",
       "    </tr>\n",
       "  </tbody>\n",
       "</table>\n",
       "</div>"
      ],
      "text/plain": [
       "               Department   No  Yes  Total  % of Attrition\n",
       "0         Human Resources   51   12     63           19.05\n",
       "1  Research & Development  828  133    961           13.84\n",
       "2                   Sales  354   92    446           20.63"
      ]
     },
     "execution_count": 114,
     "metadata": {},
     "output_type": "execute_result"
    }
   ],
   "source": [
    "department_attrition"
   ]
  },
  {
   "cell_type": "markdown",
   "id": "ac6c637d",
   "metadata": {},
   "source": [
    "#### Job Role"
   ]
  },
  {
   "cell_type": "code",
   "execution_count": 116,
   "id": "d3d2e2b8",
   "metadata": {},
   "outputs": [],
   "source": [
    "role_attrition = (\n",
    "    df.groupby(['JobRole', 'Attrition'])\n",
    "    .size()\n",
    "    .reset_index(name = 'Count')\n",
    "    .pivot(index='JobRole', columns = 'Attrition', values='Count')\n",
    "    .fillna(0)\n",
    "    .reset_index()\n",
    ")"
   ]
  },
  {
   "cell_type": "code",
   "execution_count": 117,
   "id": "235271d2",
   "metadata": {},
   "outputs": [],
   "source": [
    "role_attrition.columns.name = None"
   ]
  },
  {
   "cell_type": "code",
   "execution_count": 118,
   "id": "a0a09fbe",
   "metadata": {},
   "outputs": [],
   "source": [
    "role_attrition['Total'] = role_attrition['No'] + role_attrition['Yes']"
   ]
  },
  {
   "cell_type": "code",
   "execution_count": 119,
   "id": "0d1ff23f",
   "metadata": {},
   "outputs": [],
   "source": [
    "role_attrition['% of Attrition'] = np.round(role_attrition['Yes'] / role_attrition['Total'] * 100, 2)"
   ]
  },
  {
   "cell_type": "code",
   "execution_count": 120,
   "id": "9e8a9b76",
   "metadata": {},
   "outputs": [
    {
     "data": {
      "text/html": [
       "<div>\n",
       "<style scoped>\n",
       "    .dataframe tbody tr th:only-of-type {\n",
       "        vertical-align: middle;\n",
       "    }\n",
       "\n",
       "    .dataframe tbody tr th {\n",
       "        vertical-align: top;\n",
       "    }\n",
       "\n",
       "    .dataframe thead th {\n",
       "        text-align: right;\n",
       "    }\n",
       "</style>\n",
       "<table border=\"1\" class=\"dataframe\">\n",
       "  <thead>\n",
       "    <tr style=\"text-align: right;\">\n",
       "      <th></th>\n",
       "      <th>JobRole</th>\n",
       "      <th>No</th>\n",
       "      <th>Yes</th>\n",
       "      <th>Total</th>\n",
       "      <th>% of Attrition</th>\n",
       "    </tr>\n",
       "  </thead>\n",
       "  <tbody>\n",
       "    <tr>\n",
       "      <th>8</th>\n",
       "      <td>Sales Representative</td>\n",
       "      <td>50</td>\n",
       "      <td>33</td>\n",
       "      <td>83</td>\n",
       "      <td>39.76</td>\n",
       "    </tr>\n",
       "    <tr>\n",
       "      <th>2</th>\n",
       "      <td>Laboratory Technician</td>\n",
       "      <td>197</td>\n",
       "      <td>62</td>\n",
       "      <td>259</td>\n",
       "      <td>23.94</td>\n",
       "    </tr>\n",
       "    <tr>\n",
       "      <th>1</th>\n",
       "      <td>Human Resources</td>\n",
       "      <td>40</td>\n",
       "      <td>12</td>\n",
       "      <td>52</td>\n",
       "      <td>23.08</td>\n",
       "    </tr>\n",
       "    <tr>\n",
       "      <th>7</th>\n",
       "      <td>Sales Executive</td>\n",
       "      <td>269</td>\n",
       "      <td>57</td>\n",
       "      <td>326</td>\n",
       "      <td>17.48</td>\n",
       "    </tr>\n",
       "    <tr>\n",
       "      <th>6</th>\n",
       "      <td>Research Scientist</td>\n",
       "      <td>245</td>\n",
       "      <td>47</td>\n",
       "      <td>292</td>\n",
       "      <td>16.10</td>\n",
       "    </tr>\n",
       "    <tr>\n",
       "      <th>4</th>\n",
       "      <td>Manufacturing Director</td>\n",
       "      <td>135</td>\n",
       "      <td>10</td>\n",
       "      <td>145</td>\n",
       "      <td>6.90</td>\n",
       "    </tr>\n",
       "    <tr>\n",
       "      <th>0</th>\n",
       "      <td>Healthcare Representative</td>\n",
       "      <td>122</td>\n",
       "      <td>9</td>\n",
       "      <td>131</td>\n",
       "      <td>6.87</td>\n",
       "    </tr>\n",
       "    <tr>\n",
       "      <th>3</th>\n",
       "      <td>Manager</td>\n",
       "      <td>97</td>\n",
       "      <td>5</td>\n",
       "      <td>102</td>\n",
       "      <td>4.90</td>\n",
       "    </tr>\n",
       "    <tr>\n",
       "      <th>5</th>\n",
       "      <td>Research Director</td>\n",
       "      <td>78</td>\n",
       "      <td>2</td>\n",
       "      <td>80</td>\n",
       "      <td>2.50</td>\n",
       "    </tr>\n",
       "  </tbody>\n",
       "</table>\n",
       "</div>"
      ],
      "text/plain": [
       "                     JobRole   No  Yes  Total  % of Attrition\n",
       "8       Sales Representative   50   33     83           39.76\n",
       "2      Laboratory Technician  197   62    259           23.94\n",
       "1            Human Resources   40   12     52           23.08\n",
       "7            Sales Executive  269   57    326           17.48\n",
       "6         Research Scientist  245   47    292           16.10\n",
       "4     Manufacturing Director  135   10    145            6.90\n",
       "0  Healthcare Representative  122    9    131            6.87\n",
       "3                    Manager   97    5    102            4.90\n",
       "5          Research Director   78    2     80            2.50"
      ]
     },
     "execution_count": 120,
     "metadata": {},
     "output_type": "execute_result"
    }
   ],
   "source": [
    "role_attrition.sort_values('% of Attrition', ascending=False)"
   ]
  },
  {
   "cell_type": "code",
   "execution_count": 162,
   "id": "6736d416",
   "metadata": {},
   "outputs": [
    {
     "data": {
      "image/png": "[encoded data removed]",
      "text/plain": [
       "<Figure size 1000x600 with 1 Axes>"
      ]
     },
     "metadata": {},
     "output_type": "display_data"
    }
   ],
   "source": [
    "plt.figure(figsize=(10,6))\n",
    "sns.barplot(data=role_attrition, x='JobRole', y='% of Attrition')\n",
    "\n",
    "plt.xticks(rotation=45, ha='right')\n",
    "plt.xlabel('Job Role', fontsize = 12)\n",
    "plt.ylabel('Attrition Rate (%)', fontsize = 12)\n",
    "plt.title('Attrition Rate by Job Role', fontsize = 14, weight = 'bold')\n",
    "plt.tight_layout()"
   ]
  },
  {
   "cell_type": "markdown",
   "id": "24ae3874",
   "metadata": {},
   "source": [
    "#### Attrition is highest among Sales Representatives (39.8%) and within the Sales Department overall (20.6%)."
   ]
  },
  {
   "cell_type": "markdown",
   "id": "039139eb",
   "metadata": {},
   "source": [
    "### Are technical vs non-technical roles affected differently by attrition?"
   ]
  },
  {
   "cell_type": "code",
   "execution_count": 121,
   "id": "5baf14d1",
   "metadata": {},
   "outputs": [],
   "source": [
    "technical_roles = ['Laboratory Technician', 'Research Scientist', 'Research Director', 'Manufacturing Director']"
   ]
  },
  {
   "cell_type": "code",
   "execution_count": 122,
   "id": "8accb972",
   "metadata": {},
   "outputs": [],
   "source": [
    "role_attrition['JobRoleType'] = role_attrition['JobRole'].apply(lambda x: 'Technical' if x in technical_roles else 'Non-Technical')"
   ]
  },
  {
   "cell_type": "code",
   "execution_count": 123,
   "id": "4db51eaf",
   "metadata": {},
   "outputs": [
    {
     "data": {
      "text/html": [
       "<div>\n",
       "<style scoped>\n",
       "    .dataframe tbody tr th:only-of-type {\n",
       "        vertical-align: middle;\n",
       "    }\n",
       "\n",
       "    .dataframe tbody tr th {\n",
       "        vertical-align: top;\n",
       "    }\n",
       "\n",
       "    .dataframe thead th {\n",
       "        text-align: right;\n",
       "    }\n",
       "</style>\n",
       "<table border=\"1\" class=\"dataframe\">\n",
       "  <thead>\n",
       "    <tr style=\"text-align: right;\">\n",
       "      <th></th>\n",
       "      <th>JobRole</th>\n",
       "      <th>No</th>\n",
       "      <th>Yes</th>\n",
       "      <th>Total</th>\n",
       "      <th>% of Attrition</th>\n",
       "      <th>JobRoleType</th>\n",
       "    </tr>\n",
       "  </thead>\n",
       "  <tbody>\n",
       "    <tr>\n",
       "      <th>8</th>\n",
       "      <td>Sales Representative</td>\n",
       "      <td>50</td>\n",
       "      <td>33</td>\n",
       "      <td>83</td>\n",
       "      <td>39.76</td>\n",
       "      <td>Non-Technical</td>\n",
       "    </tr>\n",
       "    <tr>\n",
       "      <th>2</th>\n",
       "      <td>Laboratory Technician</td>\n",
       "      <td>197</td>\n",
       "      <td>62</td>\n",
       "      <td>259</td>\n",
       "      <td>23.94</td>\n",
       "      <td>Technical</td>\n",
       "    </tr>\n",
       "    <tr>\n",
       "      <th>1</th>\n",
       "      <td>Human Resources</td>\n",
       "      <td>40</td>\n",
       "      <td>12</td>\n",
       "      <td>52</td>\n",
       "      <td>23.08</td>\n",
       "      <td>Non-Technical</td>\n",
       "    </tr>\n",
       "    <tr>\n",
       "      <th>7</th>\n",
       "      <td>Sales Executive</td>\n",
       "      <td>269</td>\n",
       "      <td>57</td>\n",
       "      <td>326</td>\n",
       "      <td>17.48</td>\n",
       "      <td>Non-Technical</td>\n",
       "    </tr>\n",
       "    <tr>\n",
       "      <th>6</th>\n",
       "      <td>Research Scientist</td>\n",
       "      <td>245</td>\n",
       "      <td>47</td>\n",
       "      <td>292</td>\n",
       "      <td>16.10</td>\n",
       "      <td>Technical</td>\n",
       "    </tr>\n",
       "    <tr>\n",
       "      <th>4</th>\n",
       "      <td>Manufacturing Director</td>\n",
       "      <td>135</td>\n",
       "      <td>10</td>\n",
       "      <td>145</td>\n",
       "      <td>6.90</td>\n",
       "      <td>Technical</td>\n",
       "    </tr>\n",
       "    <tr>\n",
       "      <th>0</th>\n",
       "      <td>Healthcare Representative</td>\n",
       "      <td>122</td>\n",
       "      <td>9</td>\n",
       "      <td>131</td>\n",
       "      <td>6.87</td>\n",
       "      <td>Non-Technical</td>\n",
       "    </tr>\n",
       "    <tr>\n",
       "      <th>3</th>\n",
       "      <td>Manager</td>\n",
       "      <td>97</td>\n",
       "      <td>5</td>\n",
       "      <td>102</td>\n",
       "      <td>4.90</td>\n",
       "      <td>Non-Technical</td>\n",
       "    </tr>\n",
       "    <tr>\n",
       "      <th>5</th>\n",
       "      <td>Research Director</td>\n",
       "      <td>78</td>\n",
       "      <td>2</td>\n",
       "      <td>80</td>\n",
       "      <td>2.50</td>\n",
       "      <td>Technical</td>\n",
       "    </tr>\n",
       "  </tbody>\n",
       "</table>\n",
       "</div>"
      ],
      "text/plain": [
       "                     JobRole   No  Yes  Total  % of Attrition    JobRoleType\n",
       "8       Sales Representative   50   33     83           39.76  Non-Technical\n",
       "2      Laboratory Technician  197   62    259           23.94      Technical\n",
       "1            Human Resources   40   12     52           23.08  Non-Technical\n",
       "7            Sales Executive  269   57    326           17.48  Non-Technical\n",
       "6         Research Scientist  245   47    292           16.10      Technical\n",
       "4     Manufacturing Director  135   10    145            6.90      Technical\n",
       "0  Healthcare Representative  122    9    131            6.87  Non-Technical\n",
       "3                    Manager   97    5    102            4.90  Non-Technical\n",
       "5          Research Director   78    2     80            2.50      Technical"
      ]
     },
     "execution_count": 123,
     "metadata": {},
     "output_type": "execute_result"
    }
   ],
   "source": [
    "role_attrition.sort_values('% of Attrition', ascending=False)"
   ]
  },
  {
   "cell_type": "code",
   "execution_count": 124,
   "id": "48154793",
   "metadata": {},
   "outputs": [
    {
     "data": {
      "text/html": [
       "<div>\n",
       "<style scoped>\n",
       "    .dataframe tbody tr th:only-of-type {\n",
       "        vertical-align: middle;\n",
       "    }\n",
       "\n",
       "    .dataframe tbody tr th {\n",
       "        vertical-align: top;\n",
       "    }\n",
       "\n",
       "    .dataframe thead th {\n",
       "        text-align: right;\n",
       "    }\n",
       "</style>\n",
       "<table border=\"1\" class=\"dataframe\">\n",
       "  <thead>\n",
       "    <tr style=\"text-align: right;\">\n",
       "      <th></th>\n",
       "      <th>JobRoleType</th>\n",
       "      <th>% of Attrition</th>\n",
       "    </tr>\n",
       "  </thead>\n",
       "  <tbody>\n",
       "    <tr>\n",
       "      <th>0</th>\n",
       "      <td>Non-Technical</td>\n",
       "      <td>18.418</td>\n",
       "    </tr>\n",
       "    <tr>\n",
       "      <th>1</th>\n",
       "      <td>Technical</td>\n",
       "      <td>12.360</td>\n",
       "    </tr>\n",
       "  </tbody>\n",
       "</table>\n",
       "</div>"
      ],
      "text/plain": [
       "     JobRoleType  % of Attrition\n",
       "0  Non-Technical          18.418\n",
       "1      Technical          12.360"
      ]
     },
     "execution_count": 124,
     "metadata": {},
     "output_type": "execute_result"
    }
   ],
   "source": [
    "role_attrition.groupby('JobRoleType')['% of Attrition'].mean().reset_index()"
   ]
  },
  {
   "cell_type": "markdown",
   "id": "c0f7040d",
   "metadata": {},
   "source": [
    "#### Yes, attrition affects technical and non-technical roles differently. Non-technical roles tend to have higher attrition on average (≈18.4%) compared to technical roles (≈12.4%). In particular, Sales Representatives show the highest attrition, while technical leadership roles like Research Director and Manufacturing Director experience very low turnover."
   ]
  },
  {
   "cell_type": "markdown",
   "id": "912e4044",
   "metadata": {},
   "source": [
    "## Travel & Work-Life Balance"
   ]
  },
  {
   "cell_type": "markdown",
   "id": "dad5cff5",
   "metadata": {},
   "source": [
    "### Do employees who travel frequently for business have higher attrition?"
   ]
  },
  {
   "cell_type": "code",
   "execution_count": 127,
   "id": "8efff72b",
   "metadata": {},
   "outputs": [
    {
     "data": {
      "text/plain": [
       "array(['Travel_Rarely', 'Travel_Frequently', 'Non-Travel'], dtype=object)"
      ]
     },
     "execution_count": 127,
     "metadata": {},
     "output_type": "execute_result"
    }
   ],
   "source": [
    "df['BusinessTravel'].unique()"
   ]
  },
  {
   "cell_type": "code",
   "execution_count": 128,
   "id": "b5bce39e",
   "metadata": {},
   "outputs": [],
   "source": [
    "travel = df.groupby('BusinessTravel').size().reset_index(name='Count')"
   ]
  },
  {
   "cell_type": "code",
   "execution_count": 129,
   "id": "087422a4",
   "metadata": {},
   "outputs": [],
   "source": [
    "travel_attrition = df[df['Attrition']=='Yes'].groupby('BusinessTravel').size().reset_index(name='Attrition Count')"
   ]
  },
  {
   "cell_type": "code",
   "execution_count": 130,
   "id": "f4b81634",
   "metadata": {},
   "outputs": [],
   "source": [
    "full_travel = travel.merge(travel_attrition, on='BusinessTravel')"
   ]
  },
  {
   "cell_type": "code",
   "execution_count": null,
   "id": "fccc3f8e",
   "metadata": {},
   "outputs": [],
   "source": [
    "full_travel['% of Attrition'] = np.round(full_travel['Attrition Count'] / full_travel['Count'] * 100, 2)"
   ]
  },
  {
   "cell_type": "code",
   "execution_count": 172,
   "id": "30ff6523",
   "metadata": {},
   "outputs": [],
   "source": [
    "full_travel = full_travel.sort_values('% of Attrition')"
   ]
  },
  {
   "cell_type": "code",
   "execution_count": 176,
   "id": "305c5383",
   "metadata": {},
   "outputs": [
    {
     "data": {
      "image/png": "[encoded data removed]",
      "text/plain": [
       "<Figure size 800x500 with 1 Axes>"
      ]
     },
     "metadata": {},
     "output_type": "display_data"
    }
   ],
   "source": [
    "plt.figure(figsize=(8,5))\n",
    "\n",
    "sns.barplot(full_travel, x='BusinessTravel', y='% of Attrition')\n",
    "\n",
    "plt.title('Attrition vs BusinessTravel', fontsize = 14, weight = 'bold')\n",
    "plt.xlabel('Business Travel', fontsize = 12)\n",
    "plt.ylabel('% of Attriton', fontsize = 12)\n",
    "plt.tight_layout()"
   ]
  },
  {
   "cell_type": "markdown",
   "id": "d6dd8bf3",
   "metadata": {},
   "source": [
    "#### The data suggests that employees who travel frequently for business experience higher attrition rates(24.9%) compared to other groups. This indicates that frequent business travel is associated with the highest attrition risk, nearly three times higher than for non-travelers(8%). Employees who travel rarely fall in between the two groups(15%)."
   ]
  },
  {
   "cell_type": "markdown",
   "id": "79b2007f",
   "metadata": {},
   "source": [
    "## Is poor work-life balance a significant factor in leaving?"
   ]
  },
  {
   "cell_type": "code",
   "execution_count": null,
   "id": "8f0757b5",
   "metadata": {},
   "outputs": [
    {
     "data": {
      "text/html": [
       "<div>\n",
       "<style scoped>\n",
       "    .dataframe tbody tr th:only-of-type {\n",
       "        vertical-align: middle;\n",
       "    }\n",
       "\n",
       "    .dataframe tbody tr th {\n",
       "        vertical-align: top;\n",
       "    }\n",
       "\n",
       "    .dataframe thead th {\n",
       "        text-align: right;\n",
       "    }\n",
       "</style>\n",
       "<table border=\"1\" class=\"dataframe\">\n",
       "  <thead>\n",
       "    <tr style=\"text-align: right;\">\n",
       "      <th></th>\n",
       "      <th>WorkLifeBalanceCode</th>\n",
       "      <th>WorkLifeBalanceType</th>\n",
       "    </tr>\n",
       "  </thead>\n",
       "  <tbody>\n",
       "    <tr>\n",
       "      <th>0</th>\n",
       "      <td>1</td>\n",
       "      <td>Bad</td>\n",
       "    </tr>\n",
       "    <tr>\n",
       "      <th>1</th>\n",
       "      <td>2</td>\n",
       "      <td>Good</td>\n",
       "    </tr>\n",
       "    <tr>\n",
       "      <th>2</th>\n",
       "      <td>3</td>\n",
       "      <td>Better</td>\n",
       "    </tr>\n",
       "    <tr>\n",
       "      <th>3</th>\n",
       "      <td>4</td>\n",
       "      <td>Best</td>\n",
       "    </tr>\n",
       "  </tbody>\n",
       "</table>\n",
       "</div>"
      ],
      "text/plain": [
       "   WorkLifeBalanceCode WorkLifeBalanceType\n",
       "0                    1                 Bad\n",
       "1                    2                Good\n",
       "2                    3              Better\n",
       "3                    4                Best"
      ]
     },
     "execution_count": 133,
     "metadata": {},
     "output_type": "execute_result"
    }
   ],
   "source": [
    "work_life_balance_df"
   ]
  },
  {
   "cell_type": "code",
   "execution_count": null,
   "id": "ab65ba89",
   "metadata": {},
   "outputs": [],
   "source": [
    "wlbalance = df.groupby('WorkLifeBalance').size().reset_index(name='Count')"
   ]
  },
  {
   "cell_type": "code",
   "execution_count": null,
   "id": "b8ea840f",
   "metadata": {},
   "outputs": [],
   "source": [
    "wlbalance_attrition = df[df['Attrition']=='Yes'].groupby('WorkLifeBalance').size().reset_index(name='Attrition Count')"
   ]
  },
  {
   "cell_type": "code",
   "execution_count": null,
   "id": "8c5cc28e",
   "metadata": {},
   "outputs": [],
   "source": [
    "full_wlbalance = wlbalance.merge(wlbalance_attrition, on='WorkLifeBalance')"
   ]
  },
  {
   "cell_type": "code",
   "execution_count": null,
   "id": "424923f4",
   "metadata": {},
   "outputs": [],
   "source": [
    "full_wlbalance['% of Attrition'] = np.round(full_wlbalance['Attrition Count'] / full_wlbalance['Count'] * 100, 2)"
   ]
  },
  {
   "cell_type": "code",
   "execution_count": 177,
   "id": "7f0c9917",
   "metadata": {},
   "outputs": [],
   "source": [
    "work_life_balance_attrition = full_wlbalance.merge(work_life_balance_df, left_on='WorkLifeBalance', right_on='WorkLifeBalanceCode')[['WorkLifeBalanceType', 'Count', 'Attrition Count', '% of Attrition']]"
   ]
  },
  {
   "cell_type": "code",
   "execution_count": 178,
   "id": "6867778e",
   "metadata": {},
   "outputs": [
    {
     "data": {
      "text/html": [
       "<div>\n",
       "<style scoped>\n",
       "    .dataframe tbody tr th:only-of-type {\n",
       "        vertical-align: middle;\n",
       "    }\n",
       "\n",
       "    .dataframe tbody tr th {\n",
       "        vertical-align: top;\n",
       "    }\n",
       "\n",
       "    .dataframe thead th {\n",
       "        text-align: right;\n",
       "    }\n",
       "</style>\n",
       "<table border=\"1\" class=\"dataframe\">\n",
       "  <thead>\n",
       "    <tr style=\"text-align: right;\">\n",
       "      <th></th>\n",
       "      <th>WorkLifeBalanceType</th>\n",
       "      <th>Count</th>\n",
       "      <th>Attrition Count</th>\n",
       "      <th>% of Attrition</th>\n",
       "    </tr>\n",
       "  </thead>\n",
       "  <tbody>\n",
       "    <tr>\n",
       "      <th>0</th>\n",
       "      <td>Bad</td>\n",
       "      <td>80</td>\n",
       "      <td>25</td>\n",
       "      <td>31.25</td>\n",
       "    </tr>\n",
       "    <tr>\n",
       "      <th>1</th>\n",
       "      <td>Good</td>\n",
       "      <td>344</td>\n",
       "      <td>58</td>\n",
       "      <td>16.86</td>\n",
       "    </tr>\n",
       "    <tr>\n",
       "      <th>2</th>\n",
       "      <td>Better</td>\n",
       "      <td>893</td>\n",
       "      <td>127</td>\n",
       "      <td>14.22</td>\n",
       "    </tr>\n",
       "    <tr>\n",
       "      <th>3</th>\n",
       "      <td>Best</td>\n",
       "      <td>153</td>\n",
       "      <td>27</td>\n",
       "      <td>17.65</td>\n",
       "    </tr>\n",
       "  </tbody>\n",
       "</table>\n",
       "</div>"
      ],
      "text/plain": [
       "  WorkLifeBalanceType  Count  Attrition Count  % of Attrition\n",
       "0                 Bad     80               25           31.25\n",
       "1                Good    344               58           16.86\n",
       "2              Better    893              127           14.22\n",
       "3                Best    153               27           17.65"
      ]
     },
     "execution_count": 178,
     "metadata": {},
     "output_type": "execute_result"
    }
   ],
   "source": [
    "work_life_balance_attrition"
   ]
  },
  {
   "cell_type": "code",
   "execution_count": 179,
   "id": "53258ae3",
   "metadata": {},
   "outputs": [
    {
     "data": {
      "image/png": "[encoded data removed]",
      "text/plain": [
       "<Figure size 1000x600 with 1 Axes>"
      ]
     },
     "metadata": {},
     "output_type": "display_data"
    }
   ],
   "source": [
    "plt.figure(figsize=(10,6))\n",
    "\n",
    "sns.barplot(work_life_balance_attrition, x='WorkLifeBalanceType', y='% of Attrition')\n",
    "\n",
    "plt.title('Attrition vs Work-Life Balance', fontsize = 14, weight = 'bold')\n",
    "plt.xlabel('Work-Life Balance', fontsize = 12)\n",
    "plt.ylabel('% of Attriton', fontsize = 12)\n",
    "plt.tight_layout()"
   ]
  },
  {
   "cell_type": "markdown",
   "id": "dbd92ef5",
   "metadata": {},
   "source": [
    "#### Yes, the data shows that poor work-life balance is strongly associated with higher attrition. This suggests that employees with bad work-life balance leave at roughly double the rate of other groups. However, among employees with good, better, or best balance, attrition rates are relatively similar."
   ]
  }
 ],
 "metadata": {
  "kernelspec": {
   "display_name": "DataSci",
   "language": "python",
   "name": "python3"
  },
  "language_info": {
   "codemirror_mode": {
    "name": "ipython",
    "version": 3
   },
   "file_extension": ".py",
   "mimetype": "text/x-python",
   "name": "python",
   "nbconvert_exporter": "python",
   "pygments_lexer": "ipython3",
   "version": "3.12.8"
  }
 },
 "nbformat": 4,
 "nbformat_minor": 5
}
